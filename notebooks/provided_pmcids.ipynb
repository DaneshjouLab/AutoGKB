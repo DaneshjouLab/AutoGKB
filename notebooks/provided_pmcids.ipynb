{
 "cells": [
  {
   "cell_type": "code",
   "execution_count": 2,
   "id": "96d2995d",
   "metadata": {},
   "outputs": [
    {
     "name": "stdout",
     "output_type": "stream",
     "text": [
      "The autoreload extension is already loaded. To reload it, use:\n",
      "  %reload_ext autoreload\n",
      "/Users/shloknatarajan/stanford/research/daneshjou/AutoGKB\n"
     ]
    }
   ],
   "source": [
    "# Notebook Setup\n",
    "# Run this cell: \n",
    "# The lines below will instruct jupyter to reload imported modules before \n",
    "# executing code cells. This enables you to quickly iterate and test revisions\n",
    "# to your code without having to restart the kernel and reload all of your \n",
    "# modules each time you make a code change in a separate python file.\n",
    "\n",
    "%load_ext autoreload\n",
    "%autoreload 2\n",
    "\n",
    "import os\n",
    "\n",
    "# Change path to project root\n",
    "if os.getcwd().endswith(\"notebooks\"):\n",
    "    os.chdir(os.path.dirname(os.getcwd()))\n",
    "print(os.getcwd())"
   ]
  },
  {
   "cell_type": "code",
   "execution_count": 5,
   "id": "0f52e6b3",
   "metadata": {},
   "outputs": [],
   "source": [
    "# load data/variantAnnotations/annotations_by_pmcid.json\n",
    "annotations_by_pmcid = None\n",
    "import json\n",
    "with open(\"data/variantAnnotations/annotations_by_pmcid.json\", \"r\") as f:\n",
    "    annotations_by_pmcid = json.load(f)\n"
   ]
  },
  {
   "cell_type": "code",
   "execution_count": 7,
   "id": "aefae2ed",
   "metadata": {},
   "outputs": [],
   "source": [
    "# Provided list\n",
    "provided_pmcids = [\n",
    "    \"PMC11430164\",\n",
    "    \"PMC10786722\",\n",
    "    \"PMC10993165\",\n",
    "    \"PMC12331468\",\n",
    "    \"PMC12319246\",\n",
    "    \"PMC12260932\",\n",
    "    \"PMC10275785\",\n",
    "    \"PMC12320098\",\n",
    "    \"PMC5508045\",\n",
    "    \"PMC4706412\",\n",
    "    \"PMC11603346\",\n",
    "    \"PMC2859392\",\n",
    "    \"PMC10399933\",\n",
    "    \"PMC12038368\",\n",
    "    \"PMC4916189\",\n",
    "    \"PMC6714829\",\n",
    "    \"PMC10946077\",\n",
    "    \"PMC11062152\",\n",
    "    \"PMC6465603\",\n",
    "    \"PMC8973308\",\n",
    "    \"PMC12035587\",\n",
    "    \"PMC5561238\",\n",
    "    \"PMC3839910\",\n",
    "    \"PMC384715\",\n",
    "    \"PMC3113609\",\n",
    "    \"PMC554812\",\n",
    "    \"PMC3387531\",   \n",
    "    \"PMC8790808\",\n",
    "    \"PMC3548984\",\n",
    "    \"PMC3584248\",\n",
    "    \"PMC6435416\",\n",
    "    \"PMC11971672\",\n",
    "    \"PMC12036300\",\n",
    "    \"PMC10880264\",\n",
    "]"
   ]
  },
  {
   "cell_type": "code",
   "execution_count": 13,
   "id": "2fb3bbd0",
   "metadata": {},
   "outputs": [],
   "source": [
    "# Filter annotations_by_pmcid for provided_pmcids\n",
    "filtered_annotations = {}\n",
    "for annotation in annotations_by_pmcid:\n",
    "    if annotation[\"pmcid\"] in provided_pmcids:\n",
    "        filtered_annotations[annotation[\"pmcid\"]] = annotation\n",
    "\n",
    "# Save filtered annotations\n",
    "with open(\"data/variantAnnotations/annotations_by_pmcid_filtered.json\", \"w\") as f:\n",
    "    json.dump(filtered_annotations, f)\n"
   ]
  },
  {
   "cell_type": "code",
   "execution_count": 17,
   "id": "574aaa0d",
   "metadata": {},
   "outputs": [
    {
     "data": {
      "text/plain": [
       "26"
      ]
     },
     "execution_count": 17,
     "metadata": {},
     "output_type": "execute_result"
    }
   ],
   "source": [
    "len(filtered_annotations.keys())"
   ]
  },
  {
   "cell_type": "code",
   "execution_count": 19,
   "id": "5126f4ee",
   "metadata": {},
   "outputs": [
    {
     "name": "stdout",
     "output_type": "stream",
     "text": [
      "PMCID PMC11430164 not found in filtered annotations\n",
      "PMCID PMC12331468 not found in filtered annotations\n",
      "PMCID PMC12319246 not found in filtered annotations\n",
      "PMCID PMC12260932 not found in filtered annotations\n",
      "PMCID PMC12320098 not found in filtered annotations\n",
      "PMCID PMC12038368 not found in filtered annotations\n",
      "PMCID PMC11971672 not found in filtered annotations\n",
      "PMCID PMC12036300 not found in filtered annotations\n"
     ]
    }
   ],
   "source": [
    "for pmcid in provided_pmcids:\n",
    "    if pmcid not in filtered_annotations.keys():\n",
    "        print(f\"PMCID {pmcid} not found in filtered annotations\")\n"
   ]
  },
  {
   "cell_type": "code",
   "execution_count": 24,
   "id": "992735eb",
   "metadata": {},
   "outputs": [
    {
     "name": "stdout",
     "output_type": "stream",
     "text": [
      "Found 34836 PMIDs\n"
     ]
    }
   ],
   "source": [
    "# load all_pmids.txt\n",
    "with open(\"data/variantAnnotations/all_pmids.txt\", \"r\") as f:\n",
    "    all_pmids = f.readlines()\n",
    "    # Convert to list of integers\n",
    "all_pmids = [int(pmid) for pmid in all_pmids]\n",
    "\n",
    "# Print number of PMIDs\n",
    "print(f\"Found {len(all_pmids)} PMIDs\")\n"
   ]
  },
  {
   "cell_type": "code",
   "execution_count": null,
   "id": "76dd8dc4",
   "metadata": {},
   "outputs": [],
   "source": [
    "provided_pmids = [\n",
    "    39346054,\n",
    "    38216550,\n",
    "    38568509,\n",
    "    40786508,\n",
    "    40761554,\n",
    "    40672687,\n",
    "    37332933,\n",
    "    40762011,\n",
    "    28550460,\n",
    "    26745506,\n",
    "    39604537,\n",
    "    20338069,\n",
    "    37490620,\n",
    "    40297930,\n",
    "    26715213,\n",
    "    30336686,\n",
    "    38497131,\n",
    "    38707740,\n",
    "    31024313,\n",
    "    35431360,\n",
    "    40099566,\n",
    "    28819312,\n",
    "    23588310,\n",
    "    15024131,\n",
    "    21428769,\n",
    "    15743917,\n",
    "    21505298,\n",
    "    33768542,\n",
    "    23213055,\n",
    "    23476897,\n",
    "    30661084,\n",
    "    40184070,\n",
    "    40295977,\n",
    "    38377518\n",
    "]"
   ]
  },
  {
   "cell_type": "code",
   "execution_count": 27,
   "id": "8822f141",
   "metadata": {},
   "outputs": [
    {
     "name": "stdout",
     "output_type": "stream",
     "text": [
      "PMID 39346054 not found in all_pmids\n",
      "PMID 40786508 not found in all_pmids\n",
      "PMID 40761554 not found in all_pmids\n",
      "PMID 40672687 not found in all_pmids\n",
      "PMID 40762011 not found in all_pmids\n",
      "PMID 40297930 not found in all_pmids\n",
      "PMID 40184070 not found in all_pmids\n",
      "PMID 40295977 not found in all_pmids\n"
     ]
    }
   ],
   "source": [
    "for pmid in provided_pmids:\n",
    "    if pmid not in all_pmids:\n",
    "        print(f\"PMID {pmid} not found in all_pmids\")\n"
   ]
  },
  {
   "cell_type": "code",
   "execution_count": null,
   "id": "98d74947",
   "metadata": {},
   "outputs": [],
   "source": []
  }
 ],
 "metadata": {
  "kernelspec": {
   "display_name": "default",
   "language": "python",
   "name": "python3"
  },
  "language_info": {
   "codemirror_mode": {
    "name": "ipython",
    "version": 3
   },
   "file_extension": ".py",
   "mimetype": "text/x-python",
   "name": "python",
   "nbconvert_exporter": "python",
   "pygments_lexer": "ipython3",
   "version": "3.13.3"
  }
 },
 "nbformat": 4,
 "nbformat_minor": 5
}
