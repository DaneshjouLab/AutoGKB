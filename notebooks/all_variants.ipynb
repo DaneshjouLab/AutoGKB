{
 "cells": [
  {
   "cell_type": "code",
   "execution_count": 38,
   "metadata": {},
   "outputs": [
    {
     "name": "stdout",
     "output_type": "stream",
     "text": [
      "The autoreload extension is already loaded. To reload it, use:\n",
      "  %reload_ext autoreload\n"
     ]
    }
   ],
   "source": [
    "# Run this cell: \n",
    "# The lines below will instruct jupyter to reload imported modules before \n",
    "# executing code cells. This enables you to quickly iterate and test revisions\n",
    "# to your code without having to restart the kernel and reload all of your \n",
    "# modules each time you make a code change in a separate python file.\n",
    "\n",
    "%load_ext autoreload\n",
    "%autoreload 2"
   ]
  },
  {
   "cell_type": "code",
   "execution_count": 42,
   "metadata": {},
   "outputs": [
    {
     "name": "stdout",
     "output_type": "stream",
     "text": [
      "Current working directory: /Users/shloknatarajan/stanford/research/daneshjou/AutoGKB\n"
     ]
    }
   ],
   "source": [
    "import os\n",
    "# Change path to project root\n",
    "if os.getcwd().endswith(\"notebooks\"):\n",
    "    os.chdir(os.path.dirname(os.getcwd()))\n",
    "print(f\"Current working directory: {os.getcwd()}\")"
   ]
  },
  {
   "cell_type": "code",
   "execution_count": 43,
   "metadata": {},
   "outputs": [
    {
     "name": "stderr",
     "output_type": "stream",
     "text": [
      "\u001b[32m2025-06-26 22:06:23.108\u001b[0m | \u001b[1mINFO    \u001b[0m | \u001b[36msrc.article_parser\u001b[0m:\u001b[36m__init__\u001b[0m:\u001b[36m43\u001b[0m - \u001b[1mGetting article text from PMCID: PMC11730665\u001b[0m\n",
      "\u001b[32m2025-06-26 22:06:23.110\u001b[0m | \u001b[1mINFO    \u001b[0m | \u001b[36msrc.article_parser\u001b[0m:\u001b[36mremove_references_section\u001b[0m:\u001b[36m90\u001b[0m - \u001b[1mRemoved References section from article text\u001b[0m\n",
      "\u001b[32m2025-06-26 22:06:23.111\u001b[0m | \u001b[1mINFO    \u001b[0m | \u001b[36msrc.components.all_variants\u001b[0m:\u001b[36mextract_all_variants\u001b[0m:\u001b[36m24\u001b[0m - \u001b[1mExtracting all variants\u001b[0m\n"
     ]
    },
    {
     "name": "stderr",
     "output_type": "stream",
     "text": [
      "\u001b[32m2025-06-26 22:06:35.703\u001b[0m | \u001b[1mINFO    \u001b[0m | \u001b[36msrc.components.all_variants\u001b[0m:\u001b[36mextract_all_variants\u001b[0m:\u001b[36m32\u001b[0m - \u001b[1mFound 6 variants\u001b[0m\n"
     ]
    }
   ],
   "source": [
    "from src.components.all_variants import extract_all_variants\n",
    "\n",
    "variants = extract_all_variants(pmcid=\"PMC11730665\")"
   ]
  },
  {
   "cell_type": "code",
   "execution_count": 44,
   "metadata": {},
   "outputs": [
    {
     "data": {
      "text/plain": [
       "[Variant(variant_id='rs2909451', gene='DPP4', allele='TT genotype (lower efficacy) with sitagliptin treatment in the study group compared to the control group (treated with gliclazide). \"Patients with the rs2909451 TT genotype in the study group (treated with sitagliptin) exhibited a median HbA1c improvement of 0.57 (interquartile range [IQR], 0.18–0.85), whereas the control group (treated with gliclazide) showed a median improvement of 1.11 (IQR, 0.86–1.35; *P* < .001).\"'),\n",
       " Variant(variant_id='rs4664443', gene='DPP4', allele='GG genotype (lower efficacy) with sitagliptin treatment in the study group compared to the control group (treated with gliclazide). \"Similarly, for the rs4664443 GG genotype, the median HbA1c improvement in the study group was 0.69 (IQR, 0.48–0.91) compared with 1.25 (IQR, 1.00–1.46) in the control group (*P* < .001), indicating lower efficacy of sitagliptin.\"'),\n",
       " Variant(variant_id='rs3765467', gene='GLP1R', allele='AG genotype (better response) with sitagliptin treatment in the study group compared to the control group (treated with gliclazide). \"Conversely, patients with the rs3765467 AG genotype in the study group demonstrated a median HbA1c improvement of 1.42 (IQR, 1.22–1.68) compared with 1.08 (IQR, 0.97–1.15) in the control group (*P* = .023), indicating favorable responses to both treatments.\"'),\n",
       " Variant(variant_id='rs2285676', gene='KCNJ11', allele='CC genotype (better response) with sitagliptin treatment in the study group compared to the control group (treated with gliclazide). \"For KCNJ11 gene polymorphisms, patients with the rs2285676 CC genotype in the study group had a median HbA1c improvement of 1.02 (IQR, 0.90–1.22), while the control group showed 1.31 (IQR, 1.08–1.42; *P* < .001), indicating more substantial insulin secretion capability with sitagliptin.\"'),\n",
       " Variant(variant_id='rs1799853', gene='CYP2C9', allele='TT genotype (slower metabolism of gliclazide) in the study group compared to the control group. \"Patients with the rs1799853 TT genotype in the study group had a median HbA1c improvement of 0.70 (IQR, 0.69–0.72), while the control group showed 1.07 (IQR, 0.82–1.42; *P* < .001).\"'),\n",
       " Variant(variant_id='rs1057910', gene='CYP2C9', allele='GG genotype (slower metabolism of gliclazide) in the study group compared to the control group. \"For the rs1057910 GG genotype, the study group exhibited a median improvement of 0.93 (IQR, 0.66–1.21) compared with 1.20 (IQR, 0.89–1.30) in the control group (*P* = .464).\"')]"
      ]
     },
     "execution_count": 44,
     "metadata": {},
     "output_type": "execute_result"
    }
   ],
   "source": [
    "variants"
   ]
  },
  {
   "cell_type": "code",
   "execution_count": null,
   "metadata": {},
   "outputs": [],
   "source": [
    "# Test to see if variants are now Variant objects\n",
    "print(f\"Type of first variant: {type(variants[0])}\")\n",
    "print(f\"First variant: {variants[0]}\")\n",
    "if hasattr(variants[0], 'evidence'):\n",
    "    print(f\"Evidence field: {variants[0].evidence}\")\n",
    "else:\n",
    "    print(\"No evidence attribute found\")"
   ]
  },
  {
   "cell_type": "code",
   "execution_count": null,
   "metadata": {},
   "outputs": [],
   "source": [
    "variants_debug = extract_all_variants(pmcid=\"PMC11730665\", debug=True)"
   ]
  },
  {
   "cell_type": "code",
   "execution_count": 53,
   "metadata": {},
   "outputs": [
    {
     "name": "stdout",
     "output_type": "stream",
     "text": [
      "[{'variant_id': 'rs2909451', 'gene': 'DPP4', 'allele': 'TT'}, {'variant_id': 'rs2285676', 'gene': 'KCNJ11', 'allele': 'CC'}, {'variant_id': 'rs163184', 'gene': 'KCNQ1', 'allele': 'GG'}, {'variant_id': 'rs7754840', 'gene': 'CDKAL1', 'allele': 'CG'}, {'variant_id': 'rs4664443', 'gene': 'DPP4', 'allele': 'GG'}, {'variant_id': 'rs1799853', 'gene': 'CYP2C9', 'allele': 'TT'}, {'variant_id': 'rs3765467', 'gene': 'GLP1R', 'allele': 'AG'}, {'variant_id': 'rs6923761', 'gene': 'GLP1R', 'allele': 'AA'}]\n"
     ]
    }
   ],
   "source": [
    "from src.utils import get_true_variants\n",
    "\n",
    "true_variants = get_true_variants(\"PMC11730665\")\n",
    "print(true_variants)"
   ]
  },
  {
   "cell_type": "code",
   "execution_count": 48,
   "metadata": {},
   "outputs": [],
   "source": [
    "import json\n",
    "from loguru import logger\n",
    "from src.inference import Variant"
   ]
  },
  {
   "cell_type": "code",
   "execution_count": null,
   "metadata": {},
   "outputs": [],
   "source": []
  }
 ],
 "metadata": {
  "kernelspec": {
   "display_name": "default",
   "language": "python",
   "name": "python3"
  },
  "language_info": {
   "codemirror_mode": {
    "name": "ipython",
    "version": 3
   },
   "file_extension": ".py",
   "mimetype": "text/x-python",
   "name": "python",
   "nbconvert_exporter": "python",
   "pygments_lexer": "ipython3",
   "version": "3.13.3"
  }
 },
 "nbformat": 4,
 "nbformat_minor": 2
}
