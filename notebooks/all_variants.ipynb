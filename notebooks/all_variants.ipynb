{
 "cells": [
  {
   "cell_type": "code",
   "execution_count": 1,
   "metadata": {},
   "outputs": [],
   "source": [
    "# Run this cell: \n",
    "# The lines below will instruct jupyter to reload imported modules before \n",
    "# executing code cells. This enables you to quickly iterate and test revisions\n",
    "# to your code without having to restart the kernel and reload all of your \n",
    "# modules each time you make a code change in a separate python file.\n",
    "\n",
    "%load_ext autoreload\n",
    "%autoreload 2"
   ]
  },
  {
   "cell_type": "code",
   "execution_count": 2,
   "metadata": {},
   "outputs": [
    {
     "name": "stdout",
     "output_type": "stream",
     "text": [
      "Current working directory: /Users/shloknatarajan/stanford/research/daneshjou/AutoGKB\n"
     ]
    }
   ],
   "source": [
    "import os\n",
    "# Change path to project root\n",
    "if os.getcwd().endswith(\"notebooks\"):\n",
    "    os.chdir(os.path.dirname(os.getcwd()))\n",
    "print(f\"Current working directory: {os.getcwd()}\")"
   ]
  },
  {
   "cell_type": "code",
   "execution_count": 3,
   "metadata": {},
   "outputs": [
    {
     "name": "stderr",
     "output_type": "stream",
     "text": [
      "\u001b[32m2025-06-26 23:30:41.543\u001b[0m | \u001b[1mINFO    \u001b[0m | \u001b[36msrc.article_parser\u001b[0m:\u001b[36m__init__\u001b[0m:\u001b[36m43\u001b[0m - \u001b[1mGetting article text from PMCID: PMC11730665\u001b[0m\n",
      "\u001b[32m2025-06-26 23:30:41.544\u001b[0m | \u001b[1mINFO    \u001b[0m | \u001b[36msrc.article_parser\u001b[0m:\u001b[36mremove_references_section\u001b[0m:\u001b[36m90\u001b[0m - \u001b[1mRemoved References section from article text\u001b[0m\n",
      "\u001b[32m2025-06-26 23:30:41.545\u001b[0m | \u001b[1mINFO    \u001b[0m | \u001b[36msrc.components.all_variants\u001b[0m:\u001b[36mextract_all_variants\u001b[0m:\u001b[36m60\u001b[0m - \u001b[1mExtracting all variants\u001b[0m\n"
     ]
    },
    {
     "ename": "AttributeError",
     "evalue": "'HydratedPrompt' object has no attribute 'temperature'",
     "output_type": "error",
     "traceback": [
      "\u001b[31m---------------------------------------------------------------------------\u001b[39m",
      "\u001b[31mAttributeError\u001b[39m                            Traceback (most recent call last)",
      "\u001b[36mCell\u001b[39m\u001b[36m \u001b[39m\u001b[32mIn[3]\u001b[39m\u001b[32m, line 3\u001b[39m\n\u001b[32m      1\u001b[39m \u001b[38;5;28;01mfrom\u001b[39;00m\u001b[38;5;250m \u001b[39m\u001b[34;01msrc\u001b[39;00m\u001b[34;01m.\u001b[39;00m\u001b[34;01mcomponents\u001b[39;00m\u001b[34;01m.\u001b[39;00m\u001b[34;01mall_variants\u001b[39;00m\u001b[38;5;250m \u001b[39m\u001b[38;5;28;01mimport\u001b[39;00m extract_all_variants\n\u001b[32m----> \u001b[39m\u001b[32m3\u001b[39m variants = \u001b[43mextract_all_variants\u001b[49m\u001b[43m(\u001b[49m\u001b[43mpmcid\u001b[49m\u001b[43m=\u001b[49m\u001b[33;43m\"\u001b[39;49m\u001b[33;43mPMC11730665\u001b[39;49m\u001b[33;43m\"\u001b[39;49m\u001b[43m)\u001b[49m\n",
      "\u001b[36mFile \u001b[39m\u001b[32m~/stanford/research/daneshjou/AutoGKB/src/components/all_variants.py:61\u001b[39m, in \u001b[36mextract_all_variants\u001b[39m\u001b[34m(article_text, pmcid, model, temperature, debug)\u001b[39m\n\u001b[32m     59\u001b[39m hydrated_prompt = prompt_generator.hydrate_prompt()\n\u001b[32m     60\u001b[39m logger.info(\u001b[33mf\u001b[39m\u001b[33m\"\u001b[39m\u001b[33mExtracting all variants\u001b[39m\u001b[33m\"\u001b[39m)\n\u001b[32m---> \u001b[39m\u001b[32m61\u001b[39m output = \u001b[43mmodel\u001b[49m\u001b[43m.\u001b[49m\u001b[43mprompted_generate\u001b[49m\u001b[43m(\u001b[49m\u001b[43mhydrated_prompt\u001b[49m\u001b[43m)\u001b[49m\n\u001b[32m     62\u001b[39m \u001b[38;5;28;01mif\u001b[39;00m debug:\n\u001b[32m     63\u001b[39m     logger.debug(\u001b[33mf\u001b[39m\u001b[33m\"\u001b[39m\u001b[33mRaw LLM output: \u001b[39m\u001b[38;5;132;01m{\u001b[39;00moutput\u001b[38;5;132;01m}\u001b[39;00m\u001b[33m\"\u001b[39m)\n",
      "\u001b[36mFile \u001b[39m\u001b[32m~/stanford/research/daneshjou/AutoGKB/src/inference.py:22\u001b[39m, in \u001b[36mLLMInterface.prompted_generate\u001b[39m\u001b[34m(self, HydratedPrompt)\u001b[39m\n\u001b[32m     21\u001b[39m \u001b[38;5;28;01mdef\u001b[39;00m\u001b[38;5;250m \u001b[39m\u001b[34mprompted_generate\u001b[39m(\u001b[38;5;28mself\u001b[39m, HydratedPrompt: HydratedPrompt) -> \u001b[38;5;28mstr\u001b[39m:\n\u001b[32m---> \u001b[39m\u001b[32m22\u001b[39m     \u001b[38;5;28;01mreturn\u001b[39;00m \u001b[38;5;28mself\u001b[39m.generate(HydratedPrompt.input_prompt, HydratedPrompt.system_prompt, \u001b[43mHydratedPrompt\u001b[49m\u001b[43m.\u001b[49m\u001b[43mtemperature\u001b[49m, HydratedPrompt.response_format)\n",
      "\u001b[36mFile \u001b[39m\u001b[32m~/stanford/research/daneshjou/AutoGKB/.pixi/envs/default/lib/python3.13/site-packages/pydantic/main.py:994\u001b[39m, in \u001b[36mBaseModel.__getattr__\u001b[39m\u001b[34m(self, item)\u001b[39m\n\u001b[32m    991\u001b[39m     \u001b[38;5;28;01mreturn\u001b[39;00m \u001b[38;5;28msuper\u001b[39m().\u001b[34m__getattribute__\u001b[39m(item)  \u001b[38;5;66;03m# Raises AttributeError if appropriate\u001b[39;00m\n\u001b[32m    992\u001b[39m \u001b[38;5;28;01melse\u001b[39;00m:\n\u001b[32m    993\u001b[39m     \u001b[38;5;66;03m# this is the current error\u001b[39;00m\n\u001b[32m--> \u001b[39m\u001b[32m994\u001b[39m     \u001b[38;5;28;01mraise\u001b[39;00m \u001b[38;5;167;01mAttributeError\u001b[39;00m(\u001b[33mf\u001b[39m\u001b[33m'\u001b[39m\u001b[38;5;132;01m{\u001b[39;00m\u001b[38;5;28mtype\u001b[39m(\u001b[38;5;28mself\u001b[39m).\u001b[34m__name__\u001b[39m\u001b[38;5;132;01m!r}\u001b[39;00m\u001b[33m object has no attribute \u001b[39m\u001b[38;5;132;01m{\u001b[39;00mitem\u001b[38;5;132;01m!r}\u001b[39;00m\u001b[33m'\u001b[39m)\n",
      "\u001b[31mAttributeError\u001b[39m: 'HydratedPrompt' object has no attribute 'temperature'"
     ]
    }
   ],
   "source": [
    "from src.components.all_variants import extract_all_variants\n",
    "\n",
    "variants = extract_all_variants(pmcid=\"PMC11730665\")"
   ]
  },
  {
   "cell_type": "code",
   "execution_count": 44,
   "metadata": {},
   "outputs": [
    {
     "data": {
      "text/plain": [
       "[Variant(variant_id='rs2909451', gene='DPP4', allele='TT genotype (lower efficacy) with sitagliptin treatment in the study group compared to the control group (treated with gliclazide). \"Patients with the rs2909451 TT genotype in the study group (treated with sitagliptin) exhibited a median HbA1c improvement of 0.57 (interquartile range [IQR], 0.18–0.85), whereas the control group (treated with gliclazide) showed a median improvement of 1.11 (IQR, 0.86–1.35; *P* < .001).\"'),\n",
       " Variant(variant_id='rs4664443', gene='DPP4', allele='GG genotype (lower efficacy) with sitagliptin treatment in the study group compared to the control group (treated with gliclazide). \"Similarly, for the rs4664443 GG genotype, the median HbA1c improvement in the study group was 0.69 (IQR, 0.48–0.91) compared with 1.25 (IQR, 1.00–1.46) in the control group (*P* < .001), indicating lower efficacy of sitagliptin.\"'),\n",
       " Variant(variant_id='rs3765467', gene='GLP1R', allele='AG genotype (better response) with sitagliptin treatment in the study group compared to the control group (treated with gliclazide). \"Conversely, patients with the rs3765467 AG genotype in the study group demonstrated a median HbA1c improvement of 1.42 (IQR, 1.22–1.68) compared with 1.08 (IQR, 0.97–1.15) in the control group (*P* = .023), indicating favorable responses to both treatments.\"'),\n",
       " Variant(variant_id='rs2285676', gene='KCNJ11', allele='CC genotype (better response) with sitagliptin treatment in the study group compared to the control group (treated with gliclazide). \"For KCNJ11 gene polymorphisms, patients with the rs2285676 CC genotype in the study group had a median HbA1c improvement of 1.02 (IQR, 0.90–1.22), while the control group showed 1.31 (IQR, 1.08–1.42; *P* < .001), indicating more substantial insulin secretion capability with sitagliptin.\"'),\n",
       " Variant(variant_id='rs1799853', gene='CYP2C9', allele='TT genotype (slower metabolism of gliclazide) in the study group compared to the control group. \"Patients with the rs1799853 TT genotype in the study group had a median HbA1c improvement of 0.70 (IQR, 0.69–0.72), while the control group showed 1.07 (IQR, 0.82–1.42; *P* < .001).\"'),\n",
       " Variant(variant_id='rs1057910', gene='CYP2C9', allele='GG genotype (slower metabolism of gliclazide) in the study group compared to the control group. \"For the rs1057910 GG genotype, the study group exhibited a median improvement of 0.93 (IQR, 0.66–1.21) compared with 1.20 (IQR, 0.89–1.30) in the control group (*P* = .464).\"')]"
      ]
     },
     "execution_count": 44,
     "metadata": {},
     "output_type": "execute_result"
    }
   ],
   "source": [
    "variants"
   ]
  },
  {
   "cell_type": "code",
   "execution_count": null,
   "metadata": {},
   "outputs": [],
   "source": [
    "# Test to see if variants are now Variant objects\n",
    "print(f\"Type of first variant: {type(variants[0])}\")\n",
    "print(f\"First variant: {variants[0]}\")\n",
    "if hasattr(variants[0], 'evidence'):\n",
    "    print(f\"Evidence field: {variants[0].evidence}\")\n",
    "else:\n",
    "    print(\"No evidence attribute found\")"
   ]
  },
  {
   "cell_type": "code",
   "execution_count": null,
   "metadata": {},
   "outputs": [],
   "source": [
    "variants_debug = extract_all_variants(pmcid=\"PMC11730665\", debug=True)"
   ]
  },
  {
   "cell_type": "code",
   "execution_count": 53,
   "metadata": {},
   "outputs": [
    {
     "name": "stdout",
     "output_type": "stream",
     "text": [
      "[{'variant_id': 'rs2909451', 'gene': 'DPP4', 'allele': 'TT'}, {'variant_id': 'rs2285676', 'gene': 'KCNJ11', 'allele': 'CC'}, {'variant_id': 'rs163184', 'gene': 'KCNQ1', 'allele': 'GG'}, {'variant_id': 'rs7754840', 'gene': 'CDKAL1', 'allele': 'CG'}, {'variant_id': 'rs4664443', 'gene': 'DPP4', 'allele': 'GG'}, {'variant_id': 'rs1799853', 'gene': 'CYP2C9', 'allele': 'TT'}, {'variant_id': 'rs3765467', 'gene': 'GLP1R', 'allele': 'AG'}, {'variant_id': 'rs6923761', 'gene': 'GLP1R', 'allele': 'AA'}]\n"
     ]
    }
   ],
   "source": [
    "from src.utils import get_true_variants\n",
    "\n",
    "true_variants = get_true_variants(\"PMC11730665\")\n",
    "print(true_variants)"
   ]
  },
  {
   "cell_type": "code",
   "execution_count": 48,
   "metadata": {},
   "outputs": [],
   "source": [
    "import json\n",
    "from loguru import logger\n",
    "from src.inference import Variant"
   ]
  },
  {
   "cell_type": "code",
   "execution_count": null,
   "metadata": {},
   "outputs": [],
   "source": []
  }
 ],
 "metadata": {
  "kernelspec": {
   "display_name": "default",
   "language": "python",
   "name": "python3"
  },
  "language_info": {
   "codemirror_mode": {
    "name": "ipython",
    "version": 3
   },
   "file_extension": ".py",
   "mimetype": "text/x-python",
   "name": "python",
   "nbconvert_exporter": "python",
   "pygments_lexer": "ipython3",
   "version": "3.13.3"
  }
 },
 "nbformat": 4,
 "nbformat_minor": 2
}
