{
 "cells": [
  {
   "cell_type": "code",
   "execution_count": 3,
   "metadata": {},
   "outputs": [],
   "source": [
    "# Run this cell: \n",
    "# The lines below will instruct jupyter to reload imported modules before \n",
    "# executing code cells. This enables you to quickly iterate and test revisions\n",
    "# to your code without having to restart the kernel and reload all of your \n",
    "# modules each time you make a code change in a separate python file.\n",
    "\n",
    "%load_ext autoreload\n",
    "%autoreload 2"
   ]
  },
  {
   "cell_type": "code",
   "execution_count": 4,
   "metadata": {},
   "outputs": [
    {
     "name": "stdout",
     "output_type": "stream",
     "text": [
      "Current working directory: /Users/shloknatarajan/stanford/research/daneshjou/AutoGKB\n"
     ]
    }
   ],
   "source": [
    "import os\n",
    "# Change path to project root\n",
    "if os.getcwd().endswith(\"notebooks\"):\n",
    "    os.chdir(os.path.dirname(os.getcwd()))\n",
    "print(f\"Current working directory: {os.getcwd()}\")"
   ]
  },
  {
   "cell_type": "code",
   "execution_count": 7,
   "metadata": {},
   "outputs": [
    {
     "name": "stderr",
     "output_type": "stream",
     "text": [
      "\u001b[32m2025-06-26 23:42:47.357\u001b[0m | \u001b[1mINFO    \u001b[0m | \u001b[36msrc.article_parser\u001b[0m:\u001b[36m__init__\u001b[0m:\u001b[36m43\u001b[0m - \u001b[1mGetting article text from PMCID: PMC11730665\u001b[0m\n",
      "\u001b[32m2025-06-26 23:42:47.358\u001b[0m | \u001b[1mINFO    \u001b[0m | \u001b[36msrc.article_parser\u001b[0m:\u001b[36mremove_references_section\u001b[0m:\u001b[36m90\u001b[0m - \u001b[1mRemoved References section from article text\u001b[0m\n",
      "\u001b[32m2025-06-26 23:42:47.359\u001b[0m | \u001b[1mINFO    \u001b[0m | \u001b[36msrc.components.all_variants\u001b[0m:\u001b[36mextract_all_variants\u001b[0m:\u001b[36m18\u001b[0m - \u001b[1mExtracting all variants\u001b[0m\n",
      "\u001b[32m2025-06-26 23:43:01.195\u001b[0m | \u001b[1mINFO    \u001b[0m | \u001b[36msrc.components.all_variants\u001b[0m:\u001b[36mextract_all_variants\u001b[0m:\u001b[36m26\u001b[0m - \u001b[1mFound 10 variants\u001b[0m\n"
     ]
    }
   ],
   "source": [
    "from src.components.all_variants import extract_all_variants\n",
    "\n",
    "variants = extract_all_variants(pmcid=\"PMC11730665\")"
   ]
  },
  {
   "cell_type": "code",
   "execution_count": 8,
   "metadata": {},
   "outputs": [
    {
     "data": {
      "text/plain": [
       "[Variant(variant_id='rs2909451', gene='DPP4', allele='TT', evidence='Genetic analysis showed specific single-nucleotide polymorphisms affected drug efficacy: dipeptidyl peptidase-4 rs2909451 TT and rs4664443 GG genotypes showed lower efficacy with sitagliptin.'),\n",
       " Variant(variant_id='rs4664443', gene='DPP4', allele='GG', evidence='Genetic analysis showed specific single-nucleotide polymorphisms affected drug efficacy: dipeptidyl peptidase-4 rs2909451 TT and rs4664443 GG genotypes showed lower efficacy with sitagliptin.'),\n",
       " Variant(variant_id='rs3765467', gene='GLP1R', allele='AG', evidence='Genetic analysis showed specific single-nucleotide polymorphisms affected drug efficacy: GLP1R rs3765467 AG and KCNJ11 rs2285676 CC genotypes responded better to sitagliptin.'),\n",
       " Variant(variant_id='rs2285676', gene='KCNJ11', allele='CC', evidence='Genetic analysis showed specific single-nucleotide polymorphisms affected drug efficacy: GLP1R rs3765467 AG and KCNJ11 rs2285676 CC genotypes responded better to sitagliptin.'),\n",
       " Variant(variant_id='rs6923761', gene='GLP1R', allele='AA', evidence='Regarding GLP1R gene polymorphisms, patients with the rs6923761 AA homozygous genotype in the study group had a median HbA1c improvement of 0.90 (IQR, 0.61–1.01), while the control group showed 1.41 (IQR, 1.12–1.45; P = .010), suggesting reduced glycemic response to sitagliptin.'),\n",
       " Variant(variant_id='rs163184', gene='KCNQ1', allele='GG', evidence='KCNQ1 gene polymorphisms also significantly affected treatment outcomes. Patients with the rs163184 GG allele in the study group had a median HbA1c improvement of 0.81 (IQR, 0.62–0.92) compared with 1.16 (IQR, 0.91–1.32) in the control group (P < .001), suggesting lower responsiveness to sitagliptin and better response to gliclazide.'),\n",
       " Variant(variant_id='rs7754840', gene='CDKAL1', allele='CG', evidence='CDKAL1 gene variants, specifically rs7754840 CG and rs756992 AG, were associated with more significant HbA1c reductions in the study group. Patients with the rs7754840 CG genotype showed a median improvement of 1.44 (IQR, 1.38–1.72) in the study group compared with 1.09 (IQR, 0.79–1.17) in the control group (P = .053).'),\n",
       " Variant(variant_id='rs756992', gene='CDKAL1', allele='AG', evidence='CDKAL1 gene variants, specifically rs7754840 CG and rs756992 AG, were associated with more significant HbA1c reductions in the study group. Patients with the rs756992 AG genotype exhibited a median improvement of 1.43 (IQR, 1.28–1.52) in the study group compared with 1.10 (IQR, 0.87–1.18) in the control group (P = .081).'),\n",
       " Variant(variant_id='rs1799853', gene='CYP2C9', allele='TT', evidence='CYP2C9 gene polymorphisms also significantly influenced treatment efficacy. Patients with the rs1799853 TT genotype in the study group had a median HbA1c improvement of 0.70 (IQR, 0.69–0.72), while the control group showed 1.07 (IQR, 0.82–1.42; P < .001).'),\n",
       " Variant(variant_id='rs1057910', gene='CYP2C9', allele='GG', evidence='For the rs1057910 GG genotype, the study group exhibited a median improvement of 0.93 (IQR, 0.66–1.21) compared with 1.20 (IQR, 0.89–1.30) in the control group (P = .464).')]"
      ]
     },
     "execution_count": 8,
     "metadata": {},
     "output_type": "execute_result"
    }
   ],
   "source": [
    "variants"
   ]
  },
  {
   "cell_type": "code",
   "execution_count": 23,
   "metadata": {},
   "outputs": [
    {
     "name": "stdout",
     "output_type": "stream",
     "text": [
      "variant_id='rs2909451' gene='DPP4' allele='TT' evidence='Genetic analysis showed specific single-nucleotide polymorphisms affected drug efficacy: dipeptidyl peptidase-4 rs2909451 TT and rs4664443 GG genotypes showed lower efficacy with sitagliptin.'\n"
     ]
    }
   ],
   "source": [
    "test_variant = variants[0]\n",
    "print(test_variant)"
   ]
  },
  {
   "cell_type": "code",
   "execution_count": 48,
   "metadata": {},
   "outputs": [],
   "source": [
    "from src.components.association_types import get_association_types, list_association_types"
   ]
  },
  {
   "cell_type": "code",
   "execution_count": 50,
   "metadata": {},
   "outputs": [
    {
     "name": "stderr",
     "output_type": "stream",
     "text": [
      "\u001b[32m2025-06-27 00:31:27.068\u001b[0m | \u001b[1mINFO    \u001b[0m | \u001b[36msrc.article_parser\u001b[0m:\u001b[36m__init__\u001b[0m:\u001b[36m43\u001b[0m - \u001b[1mGetting article text from PMCID: PMC11730665\u001b[0m\n"
     ]
    },
    {
     "name": "stderr",
     "output_type": "stream",
     "text": [
      "\u001b[32m2025-06-27 00:31:27.071\u001b[0m | \u001b[1mINFO    \u001b[0m | \u001b[36msrc.article_parser\u001b[0m:\u001b[36mremove_references_section\u001b[0m:\u001b[36m90\u001b[0m - \u001b[1mRemoved References section from article text\u001b[0m\n",
      "\u001b[32m2025-06-27 00:31:27.073\u001b[0m | \u001b[1mINFO    \u001b[0m | \u001b[36msrc.components.association_types\u001b[0m:\u001b[36mget_association_types\u001b[0m:\u001b[36m5\u001b[0m - \u001b[1mDetermining association type for variants ['rs2909451', 'rs4664443', 'rs3765467', 'rs2285676', 'rs6923761', 'rs163184', 'rs7754840', 'rs756992', 'rs1799853', 'rs1057910']\u001b[0m\n"
     ]
    }
   ],
   "source": [
    "association_types = get_association_types(variants, pmcid=\"PMC11730665\")"
   ]
  },
  {
   "cell_type": "code",
   "execution_count": 51,
   "metadata": {},
   "outputs": [
    {
     "name": "stderr",
     "output_type": "stream",
     "text": [
      "\u001b[32m2025-06-27 00:32:40.312\u001b[0m | \u001b[1mINFO    \u001b[0m | \u001b[36msrc.components.association_types\u001b[0m:\u001b[36mlist_association_types\u001b[0m:\u001b[36m138\u001b[0m - \u001b[1mVariant: rs2909451 has association types: ['Drug']\u001b[0m\n",
      "\u001b[32m2025-06-27 00:32:40.313\u001b[0m | \u001b[1mINFO    \u001b[0m | \u001b[36msrc.components.association_types\u001b[0m:\u001b[36mlist_association_types\u001b[0m:\u001b[36m138\u001b[0m - \u001b[1mVariant: rs4664443 has association types: ['Drug']\u001b[0m\n",
      "\u001b[32m2025-06-27 00:32:40.313\u001b[0m | \u001b[1mINFO    \u001b[0m | \u001b[36msrc.components.association_types\u001b[0m:\u001b[36mlist_association_types\u001b[0m:\u001b[36m138\u001b[0m - \u001b[1mVariant: rs3765467 has association types: ['Drug']\u001b[0m\n",
      "\u001b[32m2025-06-27 00:32:40.313\u001b[0m | \u001b[1mINFO    \u001b[0m | \u001b[36msrc.components.association_types\u001b[0m:\u001b[36mlist_association_types\u001b[0m:\u001b[36m138\u001b[0m - \u001b[1mVariant: rs2285676 has association types: ['Drug']\u001b[0m\n",
      "\u001b[32m2025-06-27 00:32:40.313\u001b[0m | \u001b[1mINFO    \u001b[0m | \u001b[36msrc.components.association_types\u001b[0m:\u001b[36mlist_association_types\u001b[0m:\u001b[36m138\u001b[0m - \u001b[1mVariant: rs6923761 has association types: ['Drug', 'Phenotype']\u001b[0m\n",
      "\u001b[32m2025-06-27 00:32:40.314\u001b[0m | \u001b[1mINFO    \u001b[0m | \u001b[36msrc.components.association_types\u001b[0m:\u001b[36mlist_association_types\u001b[0m:\u001b[36m138\u001b[0m - \u001b[1mVariant: rs163184 has association types: ['Drug']\u001b[0m\n",
      "\u001b[32m2025-06-27 00:32:40.314\u001b[0m | \u001b[1mINFO    \u001b[0m | \u001b[36msrc.components.association_types\u001b[0m:\u001b[36mlist_association_types\u001b[0m:\u001b[36m138\u001b[0m - \u001b[1mVariant: rs7754840 has association types: ['Drug']\u001b[0m\n",
      "\u001b[32m2025-06-27 00:32:40.314\u001b[0m | \u001b[1mINFO    \u001b[0m | \u001b[36msrc.components.association_types\u001b[0m:\u001b[36mlist_association_types\u001b[0m:\u001b[36m138\u001b[0m - \u001b[1mVariant: rs756992 has association types: ['Drug']\u001b[0m\n",
      "\u001b[32m2025-06-27 00:32:40.314\u001b[0m | \u001b[1mINFO    \u001b[0m | \u001b[36msrc.components.association_types\u001b[0m:\u001b[36mlist_association_types\u001b[0m:\u001b[36m138\u001b[0m - \u001b[1mVariant: rs1799853 has association types: ['Drug']\u001b[0m\n",
      "\u001b[32m2025-06-27 00:32:40.315\u001b[0m | \u001b[1mINFO    \u001b[0m | \u001b[36msrc.components.association_types\u001b[0m:\u001b[36mlist_association_types\u001b[0m:\u001b[36m138\u001b[0m - \u001b[1mVariant: rs1057910 has association types: ['Drug']\u001b[0m\n"
     ]
    }
   ],
   "source": [
    "for association_type in association_types:\n",
    "    list_association_types(association_type)"
   ]
  },
  {
   "cell_type": "code",
   "execution_count": 8,
   "metadata": {},
   "outputs": [
    {
     "name": "stderr",
     "output_type": "stream",
     "text": [
      "\u001b[32m2025-06-27 00:51:41.232\u001b[0m | \u001b[1mINFO    \u001b[0m | \u001b[36msrc.article_parser\u001b[0m:\u001b[36m__init__\u001b[0m:\u001b[36m43\u001b[0m - \u001b[1mGetting article text from PMCID: PMC11730665\u001b[0m\n"
     ]
    },
    {
     "name": "stderr",
     "output_type": "stream",
     "text": [
      "\u001b[32m2025-06-27 00:51:41.234\u001b[0m | \u001b[1mINFO    \u001b[0m | \u001b[36msrc.article_parser\u001b[0m:\u001b[36mremove_references_section\u001b[0m:\u001b[36m90\u001b[0m - \u001b[1mRemoved References section from article text\u001b[0m\n",
      "\u001b[32m2025-06-27 00:51:41.235\u001b[0m | \u001b[1mINFO    \u001b[0m | \u001b[36msrc.components.variant_association_pipeline\u001b[0m:\u001b[36mprocess_article\u001b[0m:\u001b[36m49\u001b[0m - \u001b[1mStep 1: Extracting variants from article\u001b[0m\n",
      "\u001b[32m2025-06-27 00:51:41.236\u001b[0m | \u001b[33m\u001b[1mWARNING \u001b[0m | \u001b[36msrc.utils\u001b[0m:\u001b[36mget_article_text\u001b[0m:\u001b[36m96\u001b[0m - \u001b[33m\u001b[1mBoth article_text and PMCID are provided. Using article_text.\u001b[0m\n",
      "\u001b[32m2025-06-27 00:51:41.237\u001b[0m | \u001b[1mINFO    \u001b[0m | \u001b[36msrc.components.all_variants\u001b[0m:\u001b[36mextract_all_variants\u001b[0m:\u001b[36m53\u001b[0m - \u001b[1mExtracting all variants\u001b[0m\n",
      "\u001b[32m2025-06-27 00:52:00.050\u001b[0m | \u001b[1mINFO    \u001b[0m | \u001b[36msrc.components.all_variants\u001b[0m:\u001b[36mextract_all_variants\u001b[0m:\u001b[36m63\u001b[0m - \u001b[1mFound 10 variants\u001b[0m\n",
      "\u001b[32m2025-06-27 00:52:00.051\u001b[0m | \u001b[1mINFO    \u001b[0m | \u001b[36msrc.components.variant_association_pipeline\u001b[0m:\u001b[36mprocess_article\u001b[0m:\u001b[36m51\u001b[0m - \u001b[1mExtracted 10 variants: ['rs2909451', 'rs4664443', 'rs3765467', 'rs2285676', 'rs6923761', 'rs163184', 'rs7754840', 'rs756992', 'rs1799853', 'rs1057910']\u001b[0m\n",
      "\u001b[32m2025-06-27 00:52:00.051\u001b[0m | \u001b[1mINFO    \u001b[0m | \u001b[36msrc.components.variant_association_pipeline\u001b[0m:\u001b[36mprocess_article\u001b[0m:\u001b[36m62\u001b[0m - \u001b[1mStep 2: Determining association types for variants\u001b[0m\n",
      "\u001b[32m2025-06-27 00:52:00.052\u001b[0m | \u001b[33m\u001b[1mWARNING \u001b[0m | \u001b[36msrc.utils\u001b[0m:\u001b[36mget_article_text\u001b[0m:\u001b[36m96\u001b[0m - \u001b[33m\u001b[1mBoth article_text and PMCID are provided. Using article_text.\u001b[0m\n",
      "\u001b[32m2025-06-27 00:52:00.052\u001b[0m | \u001b[1mINFO    \u001b[0m | \u001b[36msrc.components.association_types\u001b[0m:\u001b[36mget_association_types\u001b[0m:\u001b[36m107\u001b[0m - \u001b[1mDetermining association type for variants ['rs2909451', 'rs4664443', 'rs3765467', 'rs2285676', 'rs6923761', 'rs163184', 'rs7754840', 'rs756992', 'rs1799853', 'rs1057910']\u001b[0m\n",
      "\u001b[32m2025-06-27 00:53:18.632\u001b[0m | \u001b[1mINFO    \u001b[0m | \u001b[36msrc.components.variant_association_pipeline\u001b[0m:\u001b[36mprocess_article\u001b[0m:\u001b[36m74\u001b[0m - \u001b[1mStep 3: Categorizing variants by association type\u001b[0m\n"
     ]
    },
    {
     "ename": "AttributeError",
     "evalue": "'list' object has no attribute 'association_types'",
     "output_type": "error",
     "traceback": [
      "\u001b[31m---------------------------------------------------------------------------\u001b[39m",
      "\u001b[31mAttributeError\u001b[39m                            Traceback (most recent call last)",
      "\u001b[36mCell\u001b[39m\u001b[36m \u001b[39m\u001b[32mIn[8]\u001b[39m\u001b[32m, line 3\u001b[39m\n\u001b[32m      1\u001b[39m \u001b[38;5;28;01mfrom\u001b[39;00m\u001b[38;5;250m \u001b[39m\u001b[34;01msrc\u001b[39;00m\u001b[34;01m.\u001b[39;00m\u001b[34;01mcomponents\u001b[39;00m\u001b[34;01m.\u001b[39;00m\u001b[34;01mvariant_association_pipeline\u001b[39;00m\u001b[38;5;250m \u001b[39m\u001b[38;5;28;01mimport\u001b[39;00m run_variant_association_pipeline\n\u001b[32m----> \u001b[39m\u001b[32m3\u001b[39m \u001b[43mrun_variant_association_pipeline\u001b[49m\u001b[43m(\u001b[49m\u001b[43mpmcid\u001b[49m\u001b[43m=\u001b[49m\u001b[33;43m\"\u001b[39;49m\u001b[33;43mPMC11730665\u001b[39;49m\u001b[33;43m\"\u001b[39;49m\u001b[43m)\u001b[49m\n",
      "\u001b[36mFile \u001b[39m\u001b[32m~/stanford/research/daneshjou/AutoGKB/src/components/variant_association_pipeline.py:153\u001b[39m, in \u001b[36mrun_variant_association_pipeline\u001b[39m\u001b[34m(article_text, pmcid, model, temperature)\u001b[39m\n\u001b[32m    140\u001b[39m \u001b[38;5;250m\u001b[39m\u001b[33;03m\"\"\"\u001b[39;00m\n\u001b[32m    141\u001b[39m \u001b[33;03mConvenience function to run the variant association pipeline.\u001b[39;00m\n\u001b[32m    142\u001b[39m \u001b[33;03m\u001b[39;00m\n\u001b[32m   (...)\u001b[39m\u001b[32m    150\u001b[39m \u001b[33;03m    Dictionary with lists of variants for each association type\u001b[39;00m\n\u001b[32m    151\u001b[39m \u001b[33;03m\"\"\"\u001b[39;00m\n\u001b[32m    152\u001b[39m pipeline = VariantAssociationPipeline(model=model, temperature=temperature)\n\u001b[32m--> \u001b[39m\u001b[32m153\u001b[39m \u001b[38;5;28;01mreturn\u001b[39;00m \u001b[43mpipeline\u001b[49m\u001b[43m.\u001b[49m\u001b[43mprocess_article\u001b[49m\u001b[43m(\u001b[49m\u001b[43marticle_text\u001b[49m\u001b[43m=\u001b[49m\u001b[43marticle_text\u001b[49m\u001b[43m,\u001b[49m\u001b[43m \u001b[49m\u001b[43mpmcid\u001b[49m\u001b[43m=\u001b[49m\u001b[43mpmcid\u001b[49m\u001b[43m)\u001b[49m\n",
      "\u001b[36mFile \u001b[39m\u001b[32m~/stanford/research/daneshjou/AutoGKB/src/components/variant_association_pipeline.py:75\u001b[39m, in \u001b[36mVariantAssociationPipeline.process_article\u001b[39m\u001b[34m(self, article_text, pmcid)\u001b[39m\n\u001b[32m     73\u001b[39m \u001b[38;5;66;03m# Step 3: Categorize variants by association type\u001b[39;00m\n\u001b[32m     74\u001b[39m logger.info(\u001b[33m\"\u001b[39m\u001b[33mStep 3: Categorizing variants by association type\u001b[39m\u001b[33m\"\u001b[39m)\n\u001b[32m---> \u001b[39m\u001b[32m75\u001b[39m result = \u001b[38;5;28mself\u001b[39m._categorize_variants(variants, \u001b[43massociation_types_result\u001b[49m\u001b[43m.\u001b[49m\u001b[43massociation_types\u001b[49m)\n\u001b[32m     77\u001b[39m logger.info(\u001b[33mf\u001b[39m\u001b[33m\"\u001b[39m\u001b[33mFinal categorization: \u001b[39m\u001b[38;5;132;01m{\u001b[39;00m\u001b[38;5;28mlen\u001b[39m(result[\u001b[33m'\u001b[39m\u001b[33mdrug_associations\u001b[39m\u001b[33m'\u001b[39m])\u001b[38;5;132;01m}\u001b[39;00m\u001b[33m drug, \u001b[39m\u001b[33m\"\u001b[39m\n\u001b[32m     78\u001b[39m            \u001b[33mf\u001b[39m\u001b[33m\"\u001b[39m\u001b[38;5;132;01m{\u001b[39;00m\u001b[38;5;28mlen\u001b[39m(result[\u001b[33m'\u001b[39m\u001b[33mphenotype_associations\u001b[39m\u001b[33m'\u001b[39m])\u001b[38;5;132;01m}\u001b[39;00m\u001b[33m phenotype, \u001b[39m\u001b[33m\"\u001b[39m\n\u001b[32m     79\u001b[39m            \u001b[33mf\u001b[39m\u001b[33m\"\u001b[39m\u001b[38;5;132;01m{\u001b[39;00m\u001b[38;5;28mlen\u001b[39m(result[\u001b[33m'\u001b[39m\u001b[33mfunctional_associations\u001b[39m\u001b[33m'\u001b[39m])\u001b[38;5;132;01m}\u001b[39;00m\u001b[33m functional associations\u001b[39m\u001b[33m\"\u001b[39m)\n\u001b[32m     81\u001b[39m \u001b[38;5;28;01mreturn\u001b[39;00m result\n",
      "\u001b[31mAttributeError\u001b[39m: 'list' object has no attribute 'association_types'"
     ]
    }
   ],
   "source": [
    "from src.components.variant_association_pipeline import run_variant_association_pipeline\n",
    "\n",
    "run_variant_association_pipeline(pmcid=\"PMC11730665\")"
   ]
  },
  {
   "cell_type": "code",
   "execution_count": null,
   "metadata": {},
   "outputs": [],
   "source": []
  }
 ],
 "metadata": {
  "kernelspec": {
   "display_name": "default",
   "language": "python",
   "name": "python3"
  },
  "language_info": {
   "codemirror_mode": {
    "name": "ipython",
    "version": 3
   },
   "file_extension": ".py",
   "mimetype": "text/x-python",
   "name": "python",
   "nbconvert_exporter": "python",
   "pygments_lexer": "ipython3",
   "version": "3.13.3"
  }
 },
 "nbformat": 4,
 "nbformat_minor": 2
}
