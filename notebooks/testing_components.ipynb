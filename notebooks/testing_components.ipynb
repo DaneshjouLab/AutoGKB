{
 "cells": [
  {
   "cell_type": "code",
   "execution_count": 1,
   "metadata": {},
   "outputs": [],
   "source": [
    "# Run this cell: \n",
    "# The lines below will instruct jupyter to reload imported modules before \n",
    "# executing code cells. This enables you to quickly iterate and test revisions\n",
    "# to your code without having to restart the kernel and reload all of your \n",
    "# modules each time you make a code change in a separate python file.\n",
    "\n",
    "%load_ext autoreload\n",
    "%autoreload 2"
   ]
  },
  {
   "cell_type": "code",
   "execution_count": 2,
   "metadata": {},
   "outputs": [
    {
     "name": "stdout",
     "output_type": "stream",
     "text": [
      "Current working directory: /Users/shloknatarajan/stanford/research/daneshjou/AutoGKB\n"
     ]
    }
   ],
   "source": [
    "import os\n",
    "# Change path to project root\n",
    "if os.getcwd().endswith(\"notebooks\"):\n",
    "    os.chdir(os.path.dirname(os.getcwd()))\n",
    "print(f\"Current working directory: {os.getcwd()}\")"
   ]
  },
  {
   "cell_type": "code",
   "execution_count": 7,
   "metadata": {},
   "outputs": [
    {
     "name": "stderr",
     "output_type": "stream",
     "text": [
      "\u001b[32m2025-06-26 23:42:47.357\u001b[0m | \u001b[1mINFO    \u001b[0m | \u001b[36msrc.article_parser\u001b[0m:\u001b[36m__init__\u001b[0m:\u001b[36m43\u001b[0m - \u001b[1mGetting article text from PMCID: PMC11730665\u001b[0m\n",
      "\u001b[32m2025-06-26 23:42:47.358\u001b[0m | \u001b[1mINFO    \u001b[0m | \u001b[36msrc.article_parser\u001b[0m:\u001b[36mremove_references_section\u001b[0m:\u001b[36m90\u001b[0m - \u001b[1mRemoved References section from article text\u001b[0m\n",
      "\u001b[32m2025-06-26 23:42:47.359\u001b[0m | \u001b[1mINFO    \u001b[0m | \u001b[36msrc.components.all_variants\u001b[0m:\u001b[36mextract_all_variants\u001b[0m:\u001b[36m18\u001b[0m - \u001b[1mExtracting all variants\u001b[0m\n",
      "\u001b[32m2025-06-26 23:43:01.195\u001b[0m | \u001b[1mINFO    \u001b[0m | \u001b[36msrc.components.all_variants\u001b[0m:\u001b[36mextract_all_variants\u001b[0m:\u001b[36m26\u001b[0m - \u001b[1mFound 10 variants\u001b[0m\n"
     ]
    }
   ],
   "source": [
    "from src.components.all_variants import extract_all_variants\n",
    "\n",
    "variants = extract_all_variants(pmcid=\"PMC11730665\")"
   ]
  },
  {
   "cell_type": "code",
   "execution_count": 8,
   "metadata": {},
   "outputs": [
    {
     "data": {
      "text/plain": [
       "[Variant(variant_id='rs2909451', gene='DPP4', allele='TT', evidence='Genetic analysis showed specific single-nucleotide polymorphisms affected drug efficacy: dipeptidyl peptidase-4 rs2909451 TT and rs4664443 GG genotypes showed lower efficacy with sitagliptin.'),\n",
       " Variant(variant_id='rs4664443', gene='DPP4', allele='GG', evidence='Genetic analysis showed specific single-nucleotide polymorphisms affected drug efficacy: dipeptidyl peptidase-4 rs2909451 TT and rs4664443 GG genotypes showed lower efficacy with sitagliptin.'),\n",
       " Variant(variant_id='rs3765467', gene='GLP1R', allele='AG', evidence='Genetic analysis showed specific single-nucleotide polymorphisms affected drug efficacy: GLP1R rs3765467 AG and KCNJ11 rs2285676 CC genotypes responded better to sitagliptin.'),\n",
       " Variant(variant_id='rs2285676', gene='KCNJ11', allele='CC', evidence='Genetic analysis showed specific single-nucleotide polymorphisms affected drug efficacy: GLP1R rs3765467 AG and KCNJ11 rs2285676 CC genotypes responded better to sitagliptin.'),\n",
       " Variant(variant_id='rs6923761', gene='GLP1R', allele='AA', evidence='Regarding GLP1R gene polymorphisms, patients with the rs6923761 AA homozygous genotype in the study group had a median HbA1c improvement of 0.90 (IQR, 0.61–1.01), while the control group showed 1.41 (IQR, 1.12–1.45; P = .010), suggesting reduced glycemic response to sitagliptin.'),\n",
       " Variant(variant_id='rs163184', gene='KCNQ1', allele='GG', evidence='KCNQ1 gene polymorphisms also significantly affected treatment outcomes. Patients with the rs163184 GG allele in the study group had a median HbA1c improvement of 0.81 (IQR, 0.62–0.92) compared with 1.16 (IQR, 0.91–1.32) in the control group (P < .001), suggesting lower responsiveness to sitagliptin and better response to gliclazide.'),\n",
       " Variant(variant_id='rs7754840', gene='CDKAL1', allele='CG', evidence='CDKAL1 gene variants, specifically rs7754840 CG and rs756992 AG, were associated with more significant HbA1c reductions in the study group. Patients with the rs7754840 CG genotype showed a median improvement of 1.44 (IQR, 1.38–1.72) in the study group compared with 1.09 (IQR, 0.79–1.17) in the control group (P = .053).'),\n",
       " Variant(variant_id='rs756992', gene='CDKAL1', allele='AG', evidence='CDKAL1 gene variants, specifically rs7754840 CG and rs756992 AG, were associated with more significant HbA1c reductions in the study group. Patients with the rs756992 AG genotype exhibited a median improvement of 1.43 (IQR, 1.28–1.52) in the study group compared with 1.10 (IQR, 0.87–1.18) in the control group (P = .081).'),\n",
       " Variant(variant_id='rs1799853', gene='CYP2C9', allele='TT', evidence='CYP2C9 gene polymorphisms also significantly influenced treatment efficacy. Patients with the rs1799853 TT genotype in the study group had a median HbA1c improvement of 0.70 (IQR, 0.69–0.72), while the control group showed 1.07 (IQR, 0.82–1.42; P < .001).'),\n",
       " Variant(variant_id='rs1057910', gene='CYP2C9', allele='GG', evidence='For the rs1057910 GG genotype, the study group exhibited a median improvement of 0.93 (IQR, 0.66–1.21) compared with 1.20 (IQR, 0.89–1.30) in the control group (P = .464).')]"
      ]
     },
     "execution_count": 8,
     "metadata": {},
     "output_type": "execute_result"
    }
   ],
   "source": [
    "variants"
   ]
  },
  {
   "cell_type": "code",
   "execution_count": 9,
   "metadata": {},
   "outputs": [
    {
     "name": "stdout",
     "output_type": "stream",
     "text": [
      "variant_id='rs2909451' gene='DPP4' allele='TT' evidence='Genetic analysis showed specific single-nucleotide polymorphisms affected drug efficacy: dipeptidyl peptidase-4 rs2909451 TT and rs4664443 GG genotypes showed lower efficacy with sitagliptin.'\n"
     ]
    }
   ],
   "source": [
    "test_variant = variants[0]\n",
    "print(test_variant)"
   ]
  },
  {
   "cell_type": "code",
   "execution_count": 13,
   "metadata": {},
   "outputs": [],
   "source": [
    "from src.components.association_types import determine_association_type, list_association_types"
   ]
  },
  {
   "cell_type": "code",
   "execution_count": 11,
   "metadata": {},
   "outputs": [
    {
     "name": "stderr",
     "output_type": "stream",
     "text": [
      "\u001b[32m2025-06-26 23:43:38.957\u001b[0m | \u001b[1mINFO    \u001b[0m | \u001b[36msrc.article_parser\u001b[0m:\u001b[36m__init__\u001b[0m:\u001b[36m43\u001b[0m - \u001b[1mGetting article text from PMCID: PMC11730665\u001b[0m\n",
      "\u001b[32m2025-06-26 23:43:38.961\u001b[0m | \u001b[1mINFO    \u001b[0m | \u001b[36msrc.article_parser\u001b[0m:\u001b[36mremove_references_section\u001b[0m:\u001b[36m90\u001b[0m - \u001b[1mRemoved References section from article text\u001b[0m\n"
     ]
    }
   ],
   "source": [
    "association = determine_association_type(test_variant, pmcid=\"PMC11730665\")"
   ]
  },
  {
   "cell_type": "code",
   "execution_count": 14,
   "metadata": {},
   "outputs": [
    {
     "ename": "AttributeError",
     "evalue": "'str' object has no attribute 'variant'",
     "output_type": "error",
     "traceback": [
      "\u001b[31m---------------------------------------------------------------------------\u001b[39m",
      "\u001b[31mAttributeError\u001b[39m                            Traceback (most recent call last)",
      "\u001b[36mCell\u001b[39m\u001b[36m \u001b[39m\u001b[32mIn[14]\u001b[39m\u001b[32m, line 1\u001b[39m\n\u001b[32m----> \u001b[39m\u001b[32m1\u001b[39m \u001b[43mlist_association_types\u001b[49m\u001b[43m(\u001b[49m\u001b[43massociation\u001b[49m\u001b[43m)\u001b[49m\n",
      "\u001b[36mFile \u001b[39m\u001b[32m<string>:3\u001b[39m, in \u001b[36mlist_association_types\u001b[39m\u001b[34m(association_type, debug)\u001b[39m\n",
      "\u001b[31mAttributeError\u001b[39m: 'str' object has no attribute 'variant'"
     ]
    }
   ],
   "source": [
    "list_association_types(association)"
   ]
  },
  {
   "cell_type": "code",
   "execution_count": null,
   "metadata": {},
   "outputs": [],
   "source": []
  }
 ],
 "metadata": {
  "kernelspec": {
   "display_name": "default",
   "language": "python",
   "name": "python3"
  },
  "language_info": {
   "codemirror_mode": {
    "name": "ipython",
    "version": 3
   },
   "file_extension": ".py",
   "mimetype": "text/x-python",
   "name": "python",
   "nbconvert_exporter": "python",
   "pygments_lexer": "ipython3",
   "version": "3.13.3"
  }
 },
 "nbformat": 4,
 "nbformat_minor": 2
}
