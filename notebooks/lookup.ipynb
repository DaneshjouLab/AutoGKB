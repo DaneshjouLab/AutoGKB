{
 "cells": [
  {
   "cell_type": "code",
   "execution_count": 1,
   "id": "d0fbcd40",
   "metadata": {},
   "outputs": [
    {
     "name": "stdout",
     "output_type": "stream",
     "text": [
      "/Users/shloknatarajan/stanford/research/daneshjou/AutoGKB\n"
     ]
    }
   ],
   "source": [
    "# Notebook Setup\n",
    "# Run this cell: \n",
    "# The lines below will instruct jupyter to reload imported modules before \n",
    "# executing code cells. This enables you to quickly iterate and test revisions\n",
    "# to your code without having to restart the kernel and reload all of your \n",
    "# modules each time you make a code change in a separate python file.\n",
    "\n",
    "%load_ext autoreload\n",
    "%autoreload 2\n",
    "\n",
    "import os\n",
    "\n",
    "# Change path to project root\n",
    "if os.getcwd().endswith(\"notebooks\"):\n",
    "    os.chdir(os.path.dirname(os.getcwd()))\n",
    "print(os.getcwd())"
   ]
  },
  {
   "cell_type": "code",
   "execution_count": 2,
   "id": "890ee4d3",
   "metadata": {},
   "outputs": [],
   "source": [
    "from src.ontology import VariantLookup, DrugLookup\n",
    "variant_lookup = VariantLookup()\n",
    "drug_lookup = DrugLookup()\n"
   ]
  },
  {
   "cell_type": "code",
   "execution_count": 4,
   "id": "6eaf25a8",
   "metadata": {},
   "outputs": [
    {
     "data": {
      "text/plain": [
       "[VariantSearchResult(raw_input='UGT1A9*22', id='PA166155718', name='rs3832043', url='https://www.clinpgx.org/variant/PA166155718', score=1.0)]"
      ]
     },
     "execution_count": 4,
     "metadata": {},
     "output_type": "execute_result"
    }
   ],
   "source": [
    "variant_lookup.search(\"UGT1A9*22\")"
   ]
  },
  {
   "cell_type": "code",
   "execution_count": 5,
   "id": "a3dce668",
   "metadata": {},
   "outputs": [
    {
     "data": {
      "text/plain": [
       "[DrugSearchResult(raw_input='ibuprofen', id='PA449957', name='ibuprofen', url='https://www.clinpgx.org/chemical/PA449957', score=1.0),\n",
       " DrugSearchResult(raw_input='ibuprofen', id='PA166049174', name='dexibuprofen', url='https://www.clinpgx.org/chemical/PA166049174', score=0.8571428571428571),\n",
       " DrugSearchResult(raw_input='ibuprofen', id='PA451569', name='suprofen', url='https://www.clinpgx.org/chemical/PA451569', score=0.8235294117647058)]"
      ]
     },
     "execution_count": 5,
     "metadata": {},
     "output_type": "execute_result"
    }
   ],
   "source": [
    "drug_lookup.search(\"ibuprofen\")"
   ]
  },
  {
   "cell_type": "code",
   "execution_count": null,
   "id": "5fa6fae5",
   "metadata": {},
   "outputs": [],
   "source": []
  }
 ],
 "metadata": {
  "kernelspec": {
   "display_name": "default",
   "language": "python",
   "name": "python3"
  },
  "language_info": {
   "codemirror_mode": {
    "name": "ipython",
    "version": 3
   },
   "file_extension": ".py",
   "mimetype": "text/x-python",
   "name": "python",
   "nbconvert_exporter": "python",
   "pygments_lexer": "ipython3",
   "version": "3.13.3"
  }
 },
 "nbformat": 4,
 "nbformat_minor": 5
}
