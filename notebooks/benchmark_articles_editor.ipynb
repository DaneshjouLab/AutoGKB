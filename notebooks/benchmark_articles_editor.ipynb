{
 "cells": [
  {
   "cell_type": "code",
   "execution_count": 28,
   "id": "9f6f5310",
   "metadata": {},
   "outputs": [
    {
     "name": "stdout",
     "output_type": "stream",
     "text": [
      "The autoreload extension is already loaded. To reload it, use:\n",
      "  %reload_ext autoreload\n",
      "/Users/shloknatarajan/stanford/research/daneshjou/AutoGKB\n"
     ]
    }
   ],
   "source": [
    "# Notebook Setup\n",
    "# Run this cell: \n",
    "# The lines below will instruct jupyter to reload imported modules before \n",
    "# executing code cells. This enables you to quickly iterate and test revisions\n",
    "# to your code without having to restart the kernel and reload all of your \n",
    "# modules each time you make a code change in a separate python file.\n",
    "\n",
    "%load_ext autoreload\n",
    "%autoreload 2\n",
    "\n",
    "import os\n",
    "\n",
    "# Change path to project root\n",
    "if os.getcwd().endswith(\"notebooks\"):\n",
    "    os.chdir(os.path.dirname(os.getcwd()))\n",
    "print(os.getcwd())"
   ]
  },
  {
   "cell_type": "code",
   "execution_count": 29,
   "id": "f846ec96",
   "metadata": {},
   "outputs": [],
   "source": [
    "import pandas as pd"
   ]
  },
  {
   "cell_type": "code",
   "execution_count": null,
   "id": "2e27cab5",
   "metadata": {},
   "outputs": [
    {
     "data": {
      "text/html": [
       "<div>\n",
       "<style scoped>\n",
       "    .dataframe tbody tr th:only-of-type {\n",
       "        vertical-align: middle;\n",
       "    }\n",
       "\n",
       "    .dataframe tbody tr th {\n",
       "        vertical-align: top;\n",
       "    }\n",
       "\n",
       "    .dataframe thead th {\n",
       "        text-align: right;\n",
       "    }\n",
       "</style>\n",
       "<table border=\"1\" class=\"dataframe\">\n",
       "  <thead>\n",
       "    <tr style=\"text-align: right;\">\n",
       "      <th></th>\n",
       "      <th>PMID</th>\n",
       "      <th>PMCID</th>\n",
       "      <th>Comment</th>\n",
       "    </tr>\n",
       "  </thead>\n",
       "  <tbody>\n",
       "    <tr>\n",
       "      <th>0</th>\n",
       "      <td>39346054</td>\n",
       "      <td>PMC11430164</td>\n",
       "      <td>in vitro study CYP3A4, lots of variants</td>\n",
       "    </tr>\n",
       "    <tr>\n",
       "      <th>1</th>\n",
       "      <td>38216550</td>\n",
       "      <td>PMC10786722</td>\n",
       "      <td>DPYD</td>\n",
       "    </tr>\n",
       "    <tr>\n",
       "      <th>2</th>\n",
       "      <td>38568509</td>\n",
       "      <td>PMC10993165</td>\n",
       "      <td>drug combination (sulfamethoxazole / trimethop...</td>\n",
       "    </tr>\n",
       "    <tr>\n",
       "      <th>3</th>\n",
       "      <td>40786508</td>\n",
       "      <td>PMC12331468</td>\n",
       "      <td>DPYD, TYMS and others, bunch of cancer chemoth...</td>\n",
       "    </tr>\n",
       "    <tr>\n",
       "      <th>4</th>\n",
       "      <td>40761554</td>\n",
       "      <td>PMC12319246</td>\n",
       "      <td>tacrolimus kidney transplant lots of VAs</td>\n",
       "    </tr>\n",
       "  </tbody>\n",
       "</table>\n",
       "</div>"
      ],
      "text/plain": [
       "       PMID        PMCID                                            Comment\n",
       "0  39346054  PMC11430164            in vitro study CYP3A4, lots of variants\n",
       "1  38216550  PMC10786722                                               DPYD\n",
       "2  38568509  PMC10993165  drug combination (sulfamethoxazole / trimethop...\n",
       "3  40786508  PMC12331468  DPYD, TYMS and others, bunch of cancer chemoth...\n",
       "4  40761554  PMC12319246           tacrolimus kidney transplant lots of VAs"
      ]
     },
     "execution_count": 30,
     "metadata": {},
     "output_type": "execute_result"
    }
   ],
   "source": [
    "provided_csv = pd.read_csv(\"persistent_data/benchmark_articles.csv\")\n",
    "provided_csv.head()"
   ]
  },
  {
   "cell_type": "markdown",
   "id": "65a24379",
   "metadata": {},
   "source": [
    "We want to add:\n",
    "1. Title\n",
    "2. Number of Drug Annotations\n",
    "3. Number of Functional Analysis Annotations\n",
    "4. Number of Phenotype Annotations"
   ]
  },
  {
   "cell_type": "code",
   "execution_count": 31,
   "id": "ee4f5d40",
   "metadata": {},
   "outputs": [],
   "source": [
    "# look up article from data/annotations/next_data/annotations_by_pmcid.json\n",
    "import json\n",
    "\n",
    "# Load the annotations by PMCID data\n",
    "annotations_by_pmcid = json.load(open(\"data/next_data/annotations_by_pmcid.json\", \"r\"))"
   ]
  },
  {
   "cell_type": "code",
   "execution_count": null,
   "id": "359e9feb",
   "metadata": {},
   "outputs": [],
   "source": [
    "# Create lists to hold the values\n",
    "titles = []\n",
    "drug_counts = []\n",
    "fa_counts = []\n",
    "pheno_counts = []\n",
    "study_counts = []\n",
    "\n",
    "for pmcid in provided_csv['PMCID']:\n",
    "    if pmcid in annotations_by_pmcid:\n",
    "        annotation = annotations_by_pmcid[pmcid]\n",
    "        titles.append(annotation['title'])\n",
    "        study_counts.append(len(annotation['study_parameters']))\n",
    "        drug_counts.append(len(annotation['var_drug_ann']))\n",
    "        fa_counts.append(len(annotation['var_fa_ann']))\n",
    "        pheno_counts.append(len(annotation['var_pheno_ann']))\n",
    "    else:\n",
    "        titles.append('')\n",
    "        study_counts.append(0)\n",
    "        drug_counts.append(0)\n",
    "        fa_counts.append(0)\n",
    "        pheno_counts.append(0)\n",
    "\n",
    "# Assign all at once\n",
    "provided_csv['Title'] = titles\n",
    "provided_csv['Study Parameters Count'] = study_counts\n",
    "provided_csv['Drug Annotations Count'] = drug_counts\n",
    "provided_csv['Functional Analysis Annotations Count'] = fa_counts\n",
    "provided_csv['Phenotype Annotations Count'] = pheno_counts\n",
    "\n",
    "provided_csv.to_csv(\"persistent_data/benchmark_articles_updated.csv\", index=False)"
   ]
  },
  {
   "cell_type": "code",
   "execution_count": null,
   "id": "d7d52914",
   "metadata": {},
   "outputs": [],
   "source": []
  }
 ],
 "metadata": {
  "kernelspec": {
   "display_name": "default",
   "language": "python",
   "name": "python3"
  },
  "language_info": {
   "codemirror_mode": {
    "name": "ipython",
    "version": 3
   },
   "file_extension": ".py",
   "mimetype": "text/x-python",
   "name": "python",
   "nbconvert_exporter": "python",
   "pygments_lexer": "ipython3",
   "version": "3.13.3"
  }
 },
 "nbformat": 4,
 "nbformat_minor": 5
}
