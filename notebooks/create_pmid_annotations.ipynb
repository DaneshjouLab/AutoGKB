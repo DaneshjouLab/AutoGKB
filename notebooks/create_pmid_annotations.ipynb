{
 "cells": [
  {
   "cell_type": "code",
   "execution_count": 70,
   "metadata": {},
   "outputs": [
    {
     "name": "stdout",
     "output_type": "stream",
     "text": [
      "The autoreload extension is already loaded. To reload it, use:\n",
      "  %reload_ext autoreload\n"
     ]
    }
   ],
   "source": [
    "# Run this cell: \n",
    "# The lines below will instruct jupyter to reload imported modules before \n",
    "# executing code cells. This enables you to quickly iterate and test revisions\n",
    "# to your code without having to restart the kernel and reload all of your \n",
    "# modules each time you make a code change in a separate python file.\n",
    "\n",
    "%load_ext autoreload\n",
    "%autoreload 2"
   ]
  },
  {
   "cell_type": "code",
   "execution_count": 71,
   "metadata": {},
   "outputs": [],
   "source": [
    "import pandas as pd\n",
    "import os\n",
    "from tqdm import tqdm\n",
    "import pickle\n",
    "from loguru import logger\n",
    "import json"
   ]
  },
  {
   "cell_type": "code",
   "execution_count": 72,
   "metadata": {},
   "outputs": [
    {
     "name": "stdout",
     "output_type": "stream",
     "text": [
      "/Users/shloknatarajan/stanford/research/daneshjou/AutoGKB\n"
     ]
    }
   ],
   "source": [
    "# Change path to project root\n",
    "if os.getcwd().endswith(\"notebooks\"):\n",
    "    os.chdir(os.path.dirname(os.getcwd()))\n",
    "print(os.getcwd())"
   ]
  },
  {
   "cell_type": "code",
   "execution_count": 73,
   "metadata": {},
   "outputs": [],
   "source": [
    "# load all the data/variant_annotations tsv files\n",
    "study_parameters = pd.read_csv(os.path.join(\"data\", \"variantAnnotations\", \"study_parameters.tsv\"), sep=\"\\t\")\n",
    "var_drug_ann = pd.read_csv(os.path.join(\"data\", \"variantAnnotations\", \"var_drug_ann.tsv\"), sep=\"\\t\")\n",
    "var_fa_ann = pd.read_csv(os.path.join(\"data\", \"variantAnnotations\", \"var_fa_ann.tsv\"), sep=\"\\t\")\n",
    "var_pheno_ann = pd.read_csv(os.path.join(\"data\", \"variantAnnotations\", \"var_pheno_ann.tsv\"), sep=\"\\t\")"
   ]
  },
  {
   "cell_type": "code",
   "execution_count": 74,
   "metadata": {},
   "outputs": [],
   "source": [
    "# Check unique Varriant Annotatiosn in study_parameters\n",
    "unique_variant_annotations = study_parameters['Variant Annotation ID'].unique()\n",
    "\n",
    "# Find rows where a Variant Annotation ID appears in multiple rows\n",
    "duplicate_variant_annotations = study_parameters[study_parameters.duplicated(subset=['Variant Annotation ID'])]\n",
    "\n",
    "# Count the number of duplicate Variant Annotation IDs\n",
    "num_duplicate_variant_annotations = len(duplicate_variant_annotations)\n",
    "\n",
    "\n"
   ]
  },
  {
   "cell_type": "code",
   "execution_count": 75,
   "metadata": {},
   "outputs": [
    {
     "data": {
      "text/plain": [
       "array(['case/control', 'meta-analysis', 'cohort', nan, 'retrospective',\n",
       "       'case series', 'clinical trial', 'cohort, retrospective',\n",
       "       'cohort, prospective', 'cohort, clinical trial', 'GWAS',\n",
       "       'case/control, GWAS', 'case/control, meta-analysis',\n",
       "       'cohort, GWAS', 'meta-analysis, retrospective', 'prospective',\n",
       "       'case series, retrospective',\n",
       "       'case/control, clinical trial, retrospective',\n",
       "       'cohort, clinical trial, prospective', 'cohort, replication',\n",
       "       'case/control, retrospective', 'clinical trial, GWAS',\n",
       "       'case/control, prospective', 'cohort, prospective, retrospective',\n",
       "       'replication', 'cohort, case/control',\n",
       "       'clinical trial, prospective', 'prospective, retrospective',\n",
       "       'GWAS, replication', 'meta-analysis, GWAS',\n",
       "       'case/control, clinical trial, prospective',\n",
       "       'case series, prospective', 'cohort, meta-analysis',\n",
       "       'case/control, GWAS, retrospective', 'cross sectional',\n",
       "       'cohort, case series', 'case/control, case series',\n",
       "       'clinical trial, meta-analysis', 'clinical trial, replication',\n",
       "       'cohort, trios', 'replication, retrospective', 'GWAS, prospective',\n",
       "       'cohort, clinical trial, retrospective',\n",
       "       'clinical trial, GWAS, prospective',\n",
       "       'case/control, clinical trial, prospective, retrospective',\n",
       "       'case/control, meta-analysis, GWAS', 'trios',\n",
       "       'clinical trial, retrospective', 'case/control, replication',\n",
       "       'meta-analysis, prospective', 'case/control, clinical trial',\n",
       "       'case series, clinical trial',\n",
       "       'cohort, meta-analysis, retrospective', 'case series, trios',\n",
       "       'meta-analysis, replication, prospective',\n",
       "       'case series, meta-analysis', 'cohort, linkage',\n",
       "       'meta-analysis, replication', 'cross sectional, GWAS',\n",
       "       'case series, linkage', 'linkage', 'retrospective, linkage, trios',\n",
       "       'case series, retrospective, trios',\n",
       "       'cohort, case series, retrospective', 'cohort, GWAS, prospective',\n",
       "       'cohort, replication, prospective',\n",
       "       'clinical trial, meta-analysis, retrospective',\n",
       "       'cohort, replication, retrospective', 'cohort, GWAS, replication',\n",
       "       'cohort, cross sectional, retrospective', 'cohort, linkage, trios',\n",
       "       'cohort, clinical trial, meta-analysis',\n",
       "       'clinical trial, GWAS, retrospective',\n",
       "       'case series, linkage, trios', 'linkage, trios',\n",
       "       'cohort, meta-analysis, replication',\n",
       "       'case series, retrospective, linkage',\n",
       "       'cohort, case/control, GWAS', 'cohort, case/control, replication',\n",
       "       'clinical trial, replication, prospective',\n",
       "       'cohort, case/control, retrospective',\n",
       "       'case/control, replication, retrospective',\n",
       "       'cohort, clinical trial, GWAS', 'cohort, cross sectional',\n",
       "       'case/control, case series, retrospective',\n",
       "       'case/control, clinical trial, meta-analysis',\n",
       "       'cohort, meta-analysis, prospective',\n",
       "       'case/control, clinical trial, GWAS',\n",
       "       'clinical trial, meta-analysis, GWAS',\n",
       "       'clinical trial, meta-analysis, prospective',\n",
       "       'cohort, GWAS, retrospective', 'GWAS, retrospective',\n",
       "       'cohort, case series, prospective', 'cohort, meta-analysis, GWAS',\n",
       "       'replication, prospective', 'meta-analysis, GWAS, retrospective',\n",
       "       'clinical trial, meta-analysis, prospective, trios',\n",
       "       'cross sectional, retrospective',\n",
       "       'cohort, case/control, prospective',\n",
       "       'GWAS, replication, retrospective',\n",
       "       'clinical trial, meta-analysis, replication',\n",
       "       'meta-analysis, GWAS, replication'], dtype=object)"
      ]
     },
     "execution_count": 75,
     "metadata": {},
     "output_type": "execute_result"
    }
   ],
   "source": [
    "study_parameters[\"Study Type\"].unique()"
   ]
  },
  {
   "cell_type": "code",
   "execution_count": 76,
   "metadata": {},
   "outputs": [
    {
     "data": {
      "text/plain": [
       "28525"
      ]
     },
     "execution_count": 76,
     "metadata": {},
     "output_type": "execute_result"
    }
   ],
   "source": [
    "# Convert var_drug_ann to pmid, Variant Annotation ID, and Variant Annotation Type\n",
    "pmid_table = var_drug_ann[['PMID', 'Variant Annotation ID']]\n",
    "pmid_table = pd.concat([pmid_table, var_fa_ann[['PMID', 'Variant Annotation ID']]])\n",
    "pmid_table = pd.concat([pmid_table, var_pheno_ann[['PMID', 'Variant Annotation ID']]])\n",
    "pmid_table.drop_duplicates(inplace=True)\n",
    "len(pmid_table)"
   ]
  },
  {
   "cell_type": "code",
   "execution_count": 77,
   "metadata": {},
   "outputs": [
    {
     "data": {
      "text/plain": [
       "34836"
      ]
     },
     "execution_count": 77,
     "metadata": {},
     "output_type": "execute_result"
    }
   ],
   "source": [
    "# join study parameters with pmid_table on Variant Annotation ID\n",
    "study_parameters = study_parameters.merge(pmid_table, on='Variant Annotation ID', how='left')\n",
    "len(study_parameters)"
   ]
  },
  {
   "cell_type": "code",
   "execution_count": 78,
   "metadata": {},
   "outputs": [],
   "source": [
    "sorted_params = study_parameters.sort_values(by=\"Variant Annotation ID\", inplace=False)"
   ]
  },
  {
   "cell_type": "code",
   "execution_count": 88,
   "metadata": {},
   "outputs": [
    {
     "name": "stderr",
     "output_type": "stream",
     "text": [
      "100%|██████████| 34836/34836 [00:48<00:00, 713.75it/s]\n"
     ]
    }
   ],
   "source": [
    "# check for annotations_by_pmid.pkl\n",
    "pmid_table = []\n",
    "if os.path.exists(\"data/variantAnnotations/annotations_by_pmid.pkl\"):\n",
    "    with open(\"data/variantAnnotations/annotations_by_pmid.pkl\", \"rb\") as f:\n",
    "        pmid_table = pickle.load(f)\n",
    "        logger.info(f\"Loaded {len(pmid_table)} pmid annotations from pickle\")\n",
    "else:\n",
    "    for index, row in tqdm(study_parameters.iterrows(), total=len(study_parameters)):\n",
    "        pmid = row['PMID']\n",
    "\n",
    "        # Filter by Variant Annotation ID\n",
    "        var_drug_ann_filtered = var_drug_ann[var_drug_ann['PMID'] == pmid].to_dict(orient='records')\n",
    "        # Convert to list\n",
    "        var_fa_ann_filtered = var_fa_ann[var_fa_ann['PMID'] == pmid].to_dict(orient='records')\n",
    "\n",
    "        var_pheno_ann_filtered = var_pheno_ann[var_pheno_ann['PMID'] == pmid].to_dict(orient='records')\n",
    "\n",
    "        # Filter by Variant Annotation Type\n",
    "        pmid_addition = {\n",
    "            \"pmid\": pmid,\n",
    "            \"pmcid\": None,\n",
    "            \"title\": None,\n",
    "            \"study_parameters\": row.to_dict(),\n",
    "            \"var_drug_ann\": var_drug_ann_filtered,\n",
    "            \"var_fa_ann\": var_fa_ann_filtered,\n",
    "            \"var_pheno_ann\": var_pheno_ann_filtered,\n",
    "        }\n",
    "        pmid_table.append(pmid_addition)"
   ]
  },
  {
   "cell_type": "code",
   "execution_count": 90,
   "metadata": {},
   "outputs": [],
   "source": [
    "# save pmid_table to pickle\n",
    "# pickle.dump(pmid_table, open(\"data/variantAnnotations/annotations_by_pmid.pkl\", \"wb\"))\n",
    "# save pmid_table to json\n",
    "# json.dump(pmid_table, open(\"data/variantAnnotations/annotations_by_pmid.json\", \"w\"))"
   ]
  },
  {
   "cell_type": "code",
   "execution_count": 91,
   "metadata": {},
   "outputs": [],
   "source": [
    "pmcid_mapping = json.load(open(\"data/pmcid_mapping_updated.json\"))"
   ]
  },
  {
   "cell_type": "code",
   "execution_count": 96,
   "metadata": {},
   "outputs": [],
   "source": [
    "def get_title_from_markdown(markdown_path: str):\n",
    "    with open(markdown_path, \"r\") as f:\n",
    "        markdown_text = f.read()\n",
    "    # get the title from the markdown text\n",
    "    title = markdown_text.split(\"\\n\")[0]\n",
    "    # remove the # from the title\n",
    "    title = title.replace(\"# \", \"\")\n",
    "    return title\n"
   ]
  },
  {
   "cell_type": "code",
   "execution_count": 108,
   "metadata": {},
   "outputs": [
    {
     "name": "stderr",
     "output_type": "stream",
     "text": [
      "100%|██████████| 34836/34836 [00:01<00:00, 24847.06it/s]"
     ]
    },
    {
     "name": "stdout",
     "output_type": "stream",
     "text": [
      "Found 13523 pmcids\n"
     ]
    },
    {
     "name": "stderr",
     "output_type": "stream",
     "text": [
      "\n"
     ]
    }
   ],
   "source": [
    "# lets add pmcids and titles to the pmid_table\n",
    "found_pmcids = 0\n",
    "for pmid_addition in tqdm(pmid_table):\n",
    "    title = \"\"\n",
    "    pmcid = \"\"\n",
    "    pmcid = pmcid_mapping[str(pmid_addition[\"pmid\"])]\n",
    "    if pmcid is None:\n",
    "        pmid_addition[\"pmcid\"] = None\n",
    "        pmid_addition[\"title\"] = None\n",
    "        continue\n",
    "    found_pmcids += 1\n",
    "    markdown_path = os.path.join(\"data\", \"articles\", f\"{pmcid}.md\")\n",
    "    if os.path.exists(markdown_path):\n",
    "        title = get_title_from_markdown(markdown_path)\n",
    "    else:\n",
    "        title = \"\"\n",
    "    pmid_addition[\"pmcid\"] = pmcid\n",
    "    pmid_addition[\"title\"] = title\n",
    "print(f\"Found {found_pmcids} pmcids\")"
   ]
  },
  {
   "cell_type": "code",
   "execution_count": 109,
   "metadata": {},
   "outputs": [
    {
     "data": {
      "text/plain": [
       "13523"
      ]
     },
     "execution_count": 109,
     "metadata": {},
     "output_type": "execute_result"
    }
   ],
   "source": [
    "pmid_table_filtered = []\n",
    "for pmid_addition in pmid_table:\n",
    "    if pmid_addition[\"pmcid\"] is None:\n",
    "        continue\n",
    "    pmid_table_filtered.append(pmid_addition)\n",
    "len(pmid_table_filtered)\n"
   ]
  },
  {
   "cell_type": "code",
   "execution_count": 111,
   "metadata": {},
   "outputs": [
    {
     "data": {
      "text/plain": [
       "{'pmid': 29238301,\n",
       " 'pmcid': 'PMC5712579',\n",
       " 'title': 'Association of HLA-A and HLA-B Alleles with Lamotrigine-Induced Cutaneous Adverse Drug Reactions in the Thai Population',\n",
       " 'study_parameters': {'Study Parameters ID': 1449169927,\n",
       "  'Variant Annotation ID': 1449169911,\n",
       "  'Study Type': 'case/control',\n",
       "  'Study Cases': 15.0,\n",
       "  'Study Controls': 50.0,\n",
       "  'Characteristics': 'SCAR, MPE, SJS (cases and controls)',\n",
       "  'Characteristics Type': 'Disease',\n",
       "  'Frequency In Cases': 0.06,\n",
       "  'Allele Of Frequency In Cases': '*35:08',\n",
       "  'Frequency In Controls': 0.001,\n",
       "  'Allele Of Frequency In Controls': '*35:08',\n",
       "  'P Value': '= 0.231',\n",
       "  'Ratio Stat Type': 'OR',\n",
       "  'Ratio Stat': 10.45,\n",
       "  'Confidence Interval Start': 0.4,\n",
       "  'Confidence Interval Stop': 270.41,\n",
       "  'Biogeographical Groups': 'East Asian',\n",
       "  'PMID': 29238301},\n",
       " 'var_drug_ann': [],\n",
       " 'var_fa_ann': [],\n",
       " 'var_pheno_ann': [{'Variant Annotation ID': 1449169911,\n",
       "   'Variant/Haplotypes': 'HLA-B*35:08',\n",
       "   'Gene': 'HLA-B',\n",
       "   'Drug(s)': 'lamotrigine',\n",
       "   'PMID': 29238301,\n",
       "   'Phenotype Category': 'Toxicity',\n",
       "   'Significance': 'no',\n",
       "   'Notes': 'The allele was not significant when comparing allele frequency in cases of severe cutaneous adverse reactions (SCAR), Stevens-Johnson Syndrome (SJS) and Maculopapular Exanthema (MPE) (1/15) and controls (individuals without AEs who took lamotrigine) (0/50). The allele was significant when comparing between cases (1/15) and the general population (1/986).',\n",
       "   'Sentence': 'HLA-B *35:08 is not associated with likelihood of Maculopapular Exanthema, severe cutaneous adverse reactions or Stevens-Johnson Syndrome when treated with lamotrigine in people with Epilepsy.',\n",
       "   'Alleles': '*35:08',\n",
       "   'Specialty Population': nan,\n",
       "   'Metabolizer types': nan,\n",
       "   'isPlural': 'Is',\n",
       "   'Is/Is Not associated': 'Not associated with',\n",
       "   'Direction of effect': nan,\n",
       "   'Side effect/efficacy/other': 'likelihood of',\n",
       "   'Phenotype': 'Side Effect:Maculopapular Exanthema, Side Effect:Severe Cutaneous Adverse Reactions, Side Effect:Stevens-Johnson Syndrome',\n",
       "   'Multiple phenotypes And/or': 'or',\n",
       "   'When treated with/exposed to/when assayed with': 'when treated with',\n",
       "   'Multiple drugs And/or': nan,\n",
       "   'Population types': 'in people with',\n",
       "   'Population Phenotypes or diseases': 'Disease:Epilepsy',\n",
       "   'Multiple phenotypes or diseases And/or': nan,\n",
       "   'Comparison Allele(s) or Genotype(s)': nan,\n",
       "   'Comparison Metabolizer types': nan},\n",
       "  {'Variant Annotation ID': 1449169930,\n",
       "   'Variant/Haplotypes': 'HLA-B*39:01',\n",
       "   'Gene': 'HLA-B',\n",
       "   'Drug(s)': 'lamotrigine',\n",
       "   'PMID': 29238301,\n",
       "   'Phenotype Category': 'Toxicity',\n",
       "   'Significance': 'no',\n",
       "   'Notes': 'The allele was not significant when comparing allele frequency in cases of LTG-induced severe cutaneous adverse reactions (SCAR), Stevens-Johnson Syndrome (SJS) and Maculopapular Exanthema (MPE) (2/15) and controls (controls were individuals without AEs who took lamotrigine)(1/50) both on lamotrigine.',\n",
       "   'Sentence': 'HLA-B *39:01 is not associated with likelihood of Maculopapular Exanthema, severe cutaneous adverse reactions or Stevens-Johnson Syndrome when treated with lamotrigine in people with Epilepsy.',\n",
       "   'Alleles': '*39:01',\n",
       "   'Specialty Population': nan,\n",
       "   'Metabolizer types': nan,\n",
       "   'isPlural': 'Is',\n",
       "   'Is/Is Not associated': 'Not associated with',\n",
       "   'Direction of effect': nan,\n",
       "   'Side effect/efficacy/other': 'likelihood of',\n",
       "   'Phenotype': 'Side Effect:Maculopapular Exanthema, Side Effect:Severe Cutaneous Adverse Reactions, Side Effect:Stevens-Johnson Syndrome',\n",
       "   'Multiple phenotypes And/or': 'or',\n",
       "   'When treated with/exposed to/when assayed with': 'when treated with',\n",
       "   'Multiple drugs And/or': nan,\n",
       "   'Population types': 'in people with',\n",
       "   'Population Phenotypes or diseases': 'Disease:Epilepsy',\n",
       "   'Multiple phenotypes or diseases And/or': nan,\n",
       "   'Comparison Allele(s) or Genotype(s)': nan,\n",
       "   'Comparison Metabolizer types': nan},\n",
       "  {'Variant Annotation ID': 1449169849,\n",
       "   'Variant/Haplotypes': 'HLA-B*15:02',\n",
       "   'Gene': 'HLA-B',\n",
       "   'Drug(s)': 'lamotrigine',\n",
       "   'PMID': 29238301,\n",
       "   'Phenotype Category': 'Toxicity',\n",
       "   'Significance': 'yes',\n",
       "   'Notes': 'There was a significant difference in allele frequency when comparing incidence of LTG-induced severe cutaneous adverse reactions (SCAR), Stevens-Johnson Syndrome or Maculopapular Exanthema (MPE) and controls (individuals without AEs who took lamotrigine). There was also a significant difference when only considering MPE. The allele was more frequent in cases of MPE (6/15) than in controls (6/50).',\n",
       "   'Sentence': 'HLA-B *15:02 is associated with increased likelihood of Maculopapular Exanthema or Stevens-Johnson Syndrome when treated with lamotrigine in people with Epilepsy.',\n",
       "   'Alleles': '*15:02',\n",
       "   'Specialty Population': nan,\n",
       "   'Metabolizer types': nan,\n",
       "   'isPlural': 'Is',\n",
       "   'Is/Is Not associated': 'Associated with',\n",
       "   'Direction of effect': 'increased',\n",
       "   'Side effect/efficacy/other': 'likelihood of',\n",
       "   'Phenotype': 'Side Effect:Maculopapular Exanthema, Side Effect:Stevens-Johnson Syndrome',\n",
       "   'Multiple phenotypes And/or': 'or',\n",
       "   'When treated with/exposed to/when assayed with': 'when treated with',\n",
       "   'Multiple drugs And/or': nan,\n",
       "   'Population types': 'in people with',\n",
       "   'Population Phenotypes or diseases': 'Side Effect:Epilepsy',\n",
       "   'Multiple phenotypes or diseases And/or': nan,\n",
       "   'Comparison Allele(s) or Genotype(s)': nan,\n",
       "   'Comparison Metabolizer types': nan},\n",
       "  {'Variant Annotation ID': 1449169896,\n",
       "   'Variant/Haplotypes': 'HLA-B*44:03',\n",
       "   'Gene': 'HLA-B',\n",
       "   'Drug(s)': 'lamotrigine',\n",
       "   'PMID': 29238301,\n",
       "   'Phenotype Category': 'Toxicity',\n",
       "   'Significance': 'yes',\n",
       "   'Notes': 'The allele was significantly different when comparing between cases of LTG-induced MPE (3/10) and controls (individuals without AEs who took lamotrigine) (2/50).',\n",
       "   'Sentence': 'HLA-B *44:03 is associated with increased likelihood of Maculopapular Exanthema when exposed to lamotrigine in people with Epilepsy.',\n",
       "   'Alleles': '*44:03',\n",
       "   'Specialty Population': nan,\n",
       "   'Metabolizer types': nan,\n",
       "   'isPlural': 'Is',\n",
       "   'Is/Is Not associated': 'Associated with',\n",
       "   'Direction of effect': 'increased',\n",
       "   'Side effect/efficacy/other': 'likelihood of',\n",
       "   'Phenotype': 'Side Effect:Maculopapular Exanthema',\n",
       "   'Multiple phenotypes And/or': 'and',\n",
       "   'When treated with/exposed to/when assayed with': 'when exposed to',\n",
       "   'Multiple drugs And/or': nan,\n",
       "   'Population types': 'in people with',\n",
       "   'Population Phenotypes or diseases': 'Disease:Epilepsy',\n",
       "   'Multiple phenotypes or diseases And/or': nan,\n",
       "   'Comparison Allele(s) or Genotype(s)': nan,\n",
       "   'Comparison Metabolizer types': nan},\n",
       "  {'Variant Annotation ID': 1449169831,\n",
       "   'Variant/Haplotypes': 'HLA-A*02:07',\n",
       "   'Gene': 'HLA-A',\n",
       "   'Drug(s)': 'lamotrigine',\n",
       "   'PMID': 29238301,\n",
       "   'Phenotype Category': 'Toxicity',\n",
       "   'Significance': 'yes',\n",
       "   'Notes': 'The allele was more frequent in cases (5/15) than in controls (3/50). The allele was only significant when the authors group together severe cutaneous adverse reactions (SCAR), Stevens-Johnson Syndrome or Maculopapular Exanthema (MPE). The allele was not significantly associated with MPE, SCAR or SJS alone.',\n",
       "   'Sentence': 'HLA-A *02:07 is associated with increased risk of Maculopapular Exanthema, severe cutaneous adverse reactions or Stevens-Johnson Syndrome when treated with lamotrigine in people with Epilepsy.',\n",
       "   'Alleles': '*02:07',\n",
       "   'Specialty Population': nan,\n",
       "   'Metabolizer types': nan,\n",
       "   'isPlural': 'Is',\n",
       "   'Is/Is Not associated': 'Associated with',\n",
       "   'Direction of effect': 'increased',\n",
       "   'Side effect/efficacy/other': 'risk of',\n",
       "   'Phenotype': 'Side Effect:Maculopapular Exanthema, Side Effect:Severe Cutaneous Adverse Reactions, Side Effect:Stevens-Johnson Syndrome',\n",
       "   'Multiple phenotypes And/or': 'or',\n",
       "   'When treated with/exposed to/when assayed with': 'when treated with',\n",
       "   'Multiple drugs And/or': nan,\n",
       "   'Population types': 'in people with',\n",
       "   'Population Phenotypes or diseases': 'Disease:Epilepsy',\n",
       "   'Multiple phenotypes or diseases And/or': nan,\n",
       "   'Comparison Allele(s) or Genotype(s)': nan,\n",
       "   'Comparison Metabolizer types': nan},\n",
       "  {'Variant Annotation ID': 1449169878,\n",
       "   'Variant/Haplotypes': 'HLA-A*33:03',\n",
       "   'Gene': 'HLA-A',\n",
       "   'Drug(s)': 'lamotrigine',\n",
       "   'PMID': 29238301,\n",
       "   'Phenotype Category': 'Toxicity',\n",
       "   'Significance': 'yes',\n",
       "   'Notes': 'There was no significant difference in allele frequency when comparing between individuals who experienced lamotrigine induced severe cutaneous adverse reactions (SCAR), maculopapular exanethema (MPE), or Stevens Johnson Syndrome (SJS) (7/15) versus controls (took lamotrigine without AEs) (11/50) but was significant when comparing cases of LTG-induced MPE (7/10) and controls (11/50). It was not associated with SCAR.',\n",
       "   'Sentence': 'HLA-A *33:03 is associated with increased likelihood of Maculopapular Exanthema when exposed to lamotrigine in people with Epilepsy.',\n",
       "   'Alleles': '*33:03',\n",
       "   'Specialty Population': nan,\n",
       "   'Metabolizer types': nan,\n",
       "   'isPlural': 'Is',\n",
       "   'Is/Is Not associated': 'Associated with',\n",
       "   'Direction of effect': 'increased',\n",
       "   'Side effect/efficacy/other': 'likelihood of',\n",
       "   'Phenotype': 'Disease:Maculopapular Exanthema',\n",
       "   'Multiple phenotypes And/or': 'or',\n",
       "   'When treated with/exposed to/when assayed with': 'when exposed to',\n",
       "   'Multiple drugs And/or': nan,\n",
       "   'Population types': 'in people with',\n",
       "   'Population Phenotypes or diseases': 'Disease:Epilepsy',\n",
       "   'Multiple phenotypes or diseases And/or': nan,\n",
       "   'Comparison Allele(s) or Genotype(s)': nan,\n",
       "   'Comparison Metabolizer types': nan}]}"
      ]
     },
     "execution_count": 111,
     "metadata": {},
     "output_type": "execute_result"
    }
   ],
   "source": [
    "pmid_table_filtered[0]"
   ]
  },
  {
   "cell_type": "code",
   "execution_count": 112,
   "metadata": {},
   "outputs": [],
   "source": [
    "# Save pmid_table_filtered to pickle\n",
    "pickle.dump(pmid_table_filtered, open(\"data/variantAnnotations/annotations_by_pmcid.pkl\", \"wb\"))\n",
    "# Save pmid_table_filtered to json\n",
    "json.dump(pmid_table_filtered, open(\"data/variantAnnotations/annotations_by_pmcid.json\", \"w\"))\n"
   ]
  },
  {
   "cell_type": "code",
   "execution_count": null,
   "metadata": {},
   "outputs": [],
   "source": []
  }
 ],
 "metadata": {
  "kernelspec": {
   "display_name": "default",
   "language": "python",
   "name": "python3"
  },
  "language_info": {
   "codemirror_mode": {
    "name": "ipython",
    "version": 3
   },
   "file_extension": ".py",
   "mimetype": "text/x-python",
   "name": "python",
   "nbconvert_exporter": "python",
   "pygments_lexer": "ipython3",
   "version": "3.13.3"
  }
 },
 "nbformat": 4,
 "nbformat_minor": 2
}
