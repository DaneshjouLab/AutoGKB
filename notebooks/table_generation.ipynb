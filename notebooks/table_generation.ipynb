{
 "cells": [
  {
   "cell_type": "code",
   "execution_count": 5,
   "metadata": {},
   "outputs": [
    {
     "name": "stdout",
     "output_type": "stream",
     "text": [
      "The autoreload extension is already loaded. To reload it, use:\n",
      "  %reload_ext autoreload\n",
      "/Users/shloknatarajan/stanford/research/daneshjou/AutoGKB\n"
     ]
    }
   ],
   "source": [
    "# Notebook Setup\n",
    "# Run this cell: \n",
    "# The lines below will instruct jupyter to reload imported modules before \n",
    "# executing code cells. This enables you to quickly iterate and test revisions\n",
    "# to your code without having to restart the kernel and reload all of your \n",
    "# modules each time you make a code change in a separate python file.\n",
    "\n",
    "%load_ext autoreload\n",
    "%autoreload 2\n",
    "\n",
    "import os\n",
    "\n",
    "# Change path to project root\n",
    "if os.getcwd().endswith(\"notebooks\"):\n",
    "    os.chdir(os.path.dirname(os.getcwd()))\n",
    "print(os.getcwd())"
   ]
  },
  {
   "cell_type": "code",
   "execution_count": 12,
   "metadata": {},
   "outputs": [
    {
     "name": "stderr",
     "output_type": "stream",
     "text": [
      "Generating 1 Responses:   0%|          | 0/1 [00:00<?, ?it/s]\u001b[32m2025-07-29 09:23:57.293\u001b[0m | \u001b[1mINFO    \u001b[0m | \u001b[36msrc.article_parser\u001b[0m:\u001b[36m__init__\u001b[0m:\u001b[36m43\u001b[0m - \u001b[1mGetting article text from PMCID: PMC11730665\u001b[0m\n",
      "\u001b[32m2025-07-29 09:23:57.294\u001b[0m | \u001b[1mINFO    \u001b[0m | \u001b[36msrc.article_parser\u001b[0m:\u001b[36mremove_references_section\u001b[0m:\u001b[36m90\u001b[0m - \u001b[1mRemoved References section from article text\u001b[0m\n",
      "Generating 1 Responses: 100%|██████████| 1/1 [00:04<00:00,  4.33s/it]"
     ]
    },
    {
     "name": "stdout",
     "output_type": "stream",
     "text": [
      "| Gene      | Polymorphism         | Relationship/Effect                                                                                   | p-value  |\n",
      "|-----------|---------------------|------------------------------------------------------------------------------------------------------|----------|\n",
      "| DPP-4     | rs2909451 TT        | Lower efficacy of sitagliptin (less HbA1c improvement vs gliclazide)                                 | <.001    |\n",
      "| DPP-4     | rs4664443 GG        | Lower efficacy of sitagliptin (less HbA1c improvement vs gliclazide)                                 | <.001    |\n",
      "| GLP1R     | rs6923761 AA        | Reduced glycemic response to sitagliptin (less HbA1c improvement vs gliclazide)                      | .010     |\n",
      "| GLP1R     | rs3765467 AG        | Better response to sitagliptin (greater HbA1c improvement vs gliclazide)                             | .023     |\n",
      "| KCNQ1     | rs163184 GG         | Lower responsiveness to sitagliptin, better response to gliclazide                                   | <.001    |\n",
      "| KCNJ11    | rs2285676 CC        | More substantial insulin secretion capability with sitagliptin (greater HbA1c improvement)           | <.001    |\n",
      "| CDKAL1    | rs7754840 CG        | Greater HbA1c reduction with sitagliptin (trend, not statistically significant)                      | .053     |\n",
      "| CDKAL1    | rs756992 AG         | Greater HbA1c reduction with sitagliptin (trend, not statistically significant)                      | .081     |\n",
      "| CYP2C9    | rs1799853 TT        | Slower metabolism of gliclazide, impacting efficacy and adverse event rates                          | <.001    |\n",
      "| CYP2C9    | rs1057910 GG        | Slower metabolism of gliclazide, impacting efficacy and adverse event rates (not statistically sig.) | .464     |\n"
     ]
    },
    {
     "name": "stderr",
     "output_type": "stream",
     "text": [
      "\n"
     ]
    }
   ],
   "source": [
    "from src.inference import PMCIDGenerator\n",
    "\n",
    "generator = PMCIDGenerator(pmcid=\"PMC11730665\", model=\"gpt-4.1\")\n",
    "\n",
    "prompt = \"\"\"\n",
    "What are all the pharmacogenomic relationships found in this paper?\n",
    "Output your response in markdown table format with nothing except the table. The columns should be Gene, Polymorphism, Relationship/Effect, and p-value.\n",
    "\"\"\"\n",
    "\n",
    "response = generator.generate(prompt)\n",
    "print(response)"
   ]
  },
  {
   "cell_type": "code",
   "execution_count": 13,
   "metadata": {},
   "outputs": [
    {
     "name": "stdout",
     "output_type": "stream",
     "text": [
      "=== Generating structured JSON directly ===\n"
     ]
    },
    {
     "name": "stderr",
     "output_type": "stream",
     "text": [
      "Generating 1 Responses:   0%|          | 0/1 [00:00<?, ?it/s]\u001b[32m2025-07-29 09:56:00.514\u001b[0m | \u001b[1mINFO    \u001b[0m | \u001b[36msrc.article_parser\u001b[0m:\u001b[36m__init__\u001b[0m:\u001b[36m43\u001b[0m - \u001b[1mGetting article text from PMCID: PMC11730665\u001b[0m\n",
      "\u001b[32m2025-07-29 09:56:00.515\u001b[0m | \u001b[1mINFO    \u001b[0m | \u001b[36msrc.article_parser\u001b[0m:\u001b[36mremove_references_section\u001b[0m:\u001b[36m90\u001b[0m - \u001b[1mRemoved References section from article text\u001b[0m\n",
      "Generating 1 Responses: 100%|██████████| 1/1 [00:07<00:00,  7.53s/it]"
     ]
    },
    {
     "name": "stdout",
     "output_type": "stream",
     "text": [
      "{\n",
      "  \"relationships\": [\n",
      "    {\n",
      "      \"gene\": \"DPP-4\",\n",
      "      \"polymorphism\": \"rs2909451 TT\",\n",
      "      \"relationship_effect\": \"Lower efficacy of sitagliptin in reducing HbA1c compared to gliclazide.\",\n",
      "      \"p_value\": \"<.001\"\n",
      "    },\n",
      "    {\n",
      "      \"gene\": \"DPP-4\",\n",
      "      \"polymorphism\": \"rs4664443 GG\",\n",
      "      \"relationship_effect\": \"Lower efficacy of sitagliptin in reducing HbA1c compared to gliclazide.\",\n",
      "      \"p_value\": \"<.001\"\n",
      "    },\n",
      "    {\n",
      "      \"gene\": \"GLP1R\",\n",
      "      \"polymorphism\": \"rs6923761 AA\",\n",
      "      \"relationship_effect\": \"Reduced glycemic response to sitagliptin compared to gliclazide.\",\n",
      "      \"p_value\": \".010\"\n",
      "    },\n",
      "    {\n",
      "      \"gene\": \"GLP1R\",\n",
      "      \"polymorphism\": \"rs3765467 AG\",\n",
      "      \"relationship_effect\": \"Favorable response to sitagliptin (greater HbA1c improvement) compared to gliclazide.\",\n",
      "      \"p_value\": \".023\"\n",
      "    },\n",
      "    {\n",
      "      \"gene\": \"KCNQ1\",\n",
      "      \"polymorphism\": \"rs163184 GG\",\n",
      "      \"relationship_effect\": \"Lower responsiveness to sitagliptin and better response to gliclazide.\",\n",
      "      \"p_value\": \"<.001\"\n",
      "    },\n",
      "    {\n",
      "      \"gene\": \"KCNJ11\",\n",
      "      \"polymorphism\": \"rs2285676 CC\",\n",
      "      \"relationship_effect\": \"More substantial insulin secretion capability and greater HbA1c improvement with sitagliptin compared to gliclazide.\",\n",
      "      \"p_value\": \"<.001\"\n",
      "    },\n",
      "    {\n",
      "      \"gene\": \"CDKAL1\",\n",
      "      \"polymorphism\": \"rs7754840 CG\",\n",
      "      \"relationship_effect\": \"Greater HbA1c reduction with sitagliptin compared to gliclazide.\",\n",
      "      \"p_value\": \".053\"\n",
      "    },\n",
      "    {\n",
      "      \"gene\": \"CDKAL1\",\n",
      "      \"polymorphism\": \"rs756992 AG\",\n",
      "      \"relationship_effect\": \"Greater HbA1c reduction with sitagliptin compared to gliclazide.\",\n",
      "      \"p_value\": \".081\"\n",
      "    },\n",
      "    {\n",
      "      \"gene\": \"CYP2C9\",\n",
      "      \"polymorphism\": \"rs1799853 TT\",\n",
      "      \"relationship_effect\": \"Slower metabolism of gliclazide, impacting drug efficacy and adverse event rates; lower HbA1c improvement with sitagliptin compared to gliclazide.\",\n",
      "      \"p_value\": \"<.001\"\n",
      "    },\n",
      "    {\n",
      "      \"gene\": \"CYP2C9\",\n",
      "      \"polymorphism\": \"rs1057910 GG\",\n",
      "      \"relationship_effect\": \"Slower metabolism of gliclazide, impacting drug efficacy and adverse event rates; lower HbA1c improvement with sitagliptin compared to gliclazide.\",\n",
      "      \"p_value\": \".464\"\n",
      "    }\n",
      "  ]\n",
      "}\n",
      "\n",
      "=== Converting existing markdown to JSON ===\n",
      "{\n",
      "  \"relationships\": [\n",
      "    {\n",
      "      \"gene\": \"DPP-4\",\n",
      "      \"polymorphism\": \"rs2909451 TT\",\n",
      "      \"relationship_effect\": \"Lower efficacy of sitagliptin (less HbA1c improvement vs gliclazide)\",\n",
      "      \"p_value\": \"<.001\"\n",
      "    },\n",
      "    {\n",
      "      \"gene\": \"DPP-4\",\n",
      "      \"polymorphism\": \"rs4664443 GG\",\n",
      "      \"relationship_effect\": \"Lower efficacy of sitagliptin (less HbA1c improvement vs gliclazide)\",\n",
      "      \"p_value\": \"<.001\"\n",
      "    },\n",
      "    {\n",
      "      \"gene\": \"GLP1R\",\n",
      "      \"polymorphism\": \"rs6923761 AA\",\n",
      "      \"relationship_effect\": \"Reduced glycemic response to sitagliptin (less HbA1c improvement vs gliclazide)\",\n",
      "      \"p_value\": \".010\"\n",
      "    },\n",
      "    {\n",
      "      \"gene\": \"GLP1R\",\n",
      "      \"polymorphism\": \"rs3765467 AG\",\n",
      "      \"relationship_effect\": \"Better response to sitagliptin (greater HbA1c improvement vs gliclazide)\",\n",
      "      \"p_value\": \".023\"\n",
      "    },\n",
      "    {\n",
      "      \"gene\": \"KCNQ1\",\n",
      "      \"polymorphism\": \"rs163184 GG\",\n",
      "      \"relationship_effect\": \"Lower responsiveness to sitagliptin, better response to gliclazide\",\n",
      "      \"p_value\": \"<.001\"\n",
      "    },\n",
      "    {\n",
      "      \"gene\": \"KCNJ11\",\n",
      "      \"polymorphism\": \"rs2285676 CC\",\n",
      "      \"relationship_effect\": \"More substantial insulin secretion capability with sitagliptin (greater HbA1c improvement)\",\n",
      "      \"p_value\": \"<.001\"\n",
      "    },\n",
      "    {\n",
      "      \"gene\": \"CDKAL1\",\n",
      "      \"polymorphism\": \"rs7754840 CG\",\n",
      "      \"relationship_effect\": \"Greater HbA1c reduction with sitagliptin (trend, not statistically significant)\",\n",
      "      \"p_value\": \".053\"\n",
      "    },\n",
      "    {\n",
      "      \"gene\": \"CDKAL1\",\n",
      "      \"polymorphism\": \"rs756992 AG\",\n",
      "      \"relationship_effect\": \"Greater HbA1c reduction with sitagliptin (trend, not statistically significant)\",\n",
      "      \"p_value\": \".081\"\n",
      "    },\n",
      "    {\n",
      "      \"gene\": \"CYP2C9\",\n",
      "      \"polymorphism\": \"rs1799853 TT\",\n",
      "      \"relationship_effect\": \"Slower metabolism of gliclazide, impacting efficacy and adverse event rates\",\n",
      "      \"p_value\": \"<.001\"\n",
      "    },\n",
      "    {\n",
      "      \"gene\": \"CYP2C9\",\n",
      "      \"polymorphism\": \"rs1057910 GG\",\n",
      "      \"relationship_effect\": \"Slower metabolism of gliclazide, impacting efficacy and adverse event rates (not statistically sig.)\",\n",
      "      \"p_value\": \".464\"\n",
      "    }\n",
      "  ]\n",
      "}\n"
     ]
    },
    {
     "name": "stderr",
     "output_type": "stream",
     "text": [
      "\n"
     ]
    }
   ],
   "source": [
    "# Test the new PharmacogenomicTableGenerator component\n",
    "from src.components.pharmacogenomic_table import PharmacogenomicTableGenerator\n",
    "import json\n",
    "\n",
    "# Initialize the generator\n",
    "table_generator = PharmacogenomicTableGenerator(pmcid=\"PMC11730665\", model=\"gpt-4.1\")\n",
    "\n",
    "# Generate structured JSON directly\n",
    "print(\"=== Generating structured JSON directly ===\")\n",
    "json_data = table_generator.generate_table_json()\n",
    "print(json.dumps(json_data.model_dump(), indent=2))\n",
    "\n",
    "# Alternative: Convert existing markdown table to JSON\n",
    "print(\"\\n=== Converting existing markdown to JSON ===\")\n",
    "json_from_markdown = table_generator.convert_markdown_to_json(response)\n",
    "print(json.dumps(json_from_markdown.model_dump(), indent=2))"
   ]
  },
  {
   "cell_type": "markdown",
   "metadata": {},
   "source": []
  }
 ],
 "metadata": {
  "kernelspec": {
   "display_name": "default",
   "language": "python",
   "name": "python3"
  },
  "language_info": {
   "codemirror_mode": {
    "name": "ipython",
    "version": 3
   },
   "file_extension": ".py",
   "mimetype": "text/x-python",
   "name": "python",
   "nbconvert_exporter": "python",
   "pygments_lexer": "ipython3",
   "version": "3.13.3"
  }
 },
 "nbformat": 4,
 "nbformat_minor": 2
}
