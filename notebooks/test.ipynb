{
 "cells": [
  {
   "cell_type": "code",
   "execution_count": 17,
   "metadata": {},
   "outputs": [
    {
     "name": "stdout",
     "output_type": "stream",
     "text": [
      "The autoreload extension is already loaded. To reload it, use:\n",
      "  %reload_ext autoreload\n"
     ]
    }
   ],
   "source": [
    "# Run this cell: \n",
    "# The lines below will instruct jupyter to reload imported modules before \n",
    "# executing code cells. This enables you to quickly iterate and test revisions\n",
    "# to your code without having to restart the kernel and reload all of your \n",
    "# modules each time you make a code change in a separate python file.\n",
    "\n",
    "%load_ext autoreload\n",
    "%autoreload 2"
   ]
  },
  {
   "cell_type": "code",
   "execution_count": 123,
   "metadata": {},
   "outputs": [
    {
     "name": "stdout",
     "output_type": "stream",
     "text": [
      "/Users/shloknatarajan/stanford/research/daneshjou/AutoGKB\n"
     ]
    }
   ],
   "source": [
    "import os\n",
    "# Change path to project root\n",
    "if os.getcwd().endswith(\"notebooks\"):\n",
    "    os.chdir(os.path.dirname(os.getcwd()))\n",
    "print(os.getcwd())"
   ]
  },
  {
   "cell_type": "code",
   "execution_count": 124,
   "metadata": {},
   "outputs": [],
   "source": [
    "from src.annotation_extraction.simple_inference import SimpleLLM, PromptGenerator\n",
    "from src.annotation_extraction.models import ArticleParser\n",
    "from typing import List"
   ]
  },
  {
   "cell_type": "code",
   "execution_count": 125,
   "metadata": {},
   "outputs": [
    {
     "name": "stderr",
     "output_type": "stream",
     "text": [
      "\u001b[32m2025-06-13 13:40:33.257\u001b[0m | \u001b[1mINFO    \u001b[0m | \u001b[36msrc.annotation_extraction.models\u001b[0m:\u001b[36m__init__\u001b[0m:\u001b[36m13\u001b[0m - \u001b[1mGetting article text from PMCID: PMC11730665\u001b[0m\n",
      "\u001b[32m2025-06-13 13:40:33.261\u001b[0m | \u001b[1mINFO    \u001b[0m | \u001b[36msrc.annotation_extraction.models\u001b[0m:\u001b[36mremove_references_section\u001b[0m:\u001b[36m121\u001b[0m - \u001b[1mRemoved References section from article text\u001b[0m\n",
      "\u001b[32m2025-06-13 13:40:33.262\u001b[0m | \u001b[1mINFO    \u001b[0m | \u001b[36msrc.annotation_extraction.models\u001b[0m:\u001b[36m__init__\u001b[0m:\u001b[36m13\u001b[0m - \u001b[1mGetting article text from PMCID: PMC11730665\u001b[0m\n",
      "\u001b[32m2025-06-13 13:40:33.264\u001b[0m | \u001b[1mINFO    \u001b[0m | \u001b[36msrc.annotation_extraction.models\u001b[0m:\u001b[36mremove_references_section\u001b[0m:\u001b[36m121\u001b[0m - \u001b[1mRemoved References section from article text\u001b[0m\n"
     ]
    }
   ],
   "source": [
    "article_title = ArticleParser(pmcid=\"PMC11730665\").parse().title\n",
    "article_text = ArticleParser(pmcid=\"PMC11730665\").parse().article_text"
   ]
  },
  {
   "cell_type": "code",
   "execution_count": 126,
   "metadata": {},
   "outputs": [],
   "source": [
    "DRUG_SUMMARY = \"\"\"\n",
    "You are an expert pharmacogenomics researcher reading and extracting annotations from the following article\n",
    "\n",
    "\\n\\n{article_text}\\n\\n\n",
    "\n",
    "From this article:\n",
    "First, briefly summarize the methods and results of the study\n",
    "Next, create a list of extract all variants that have a studied described effect on drug response.\n",
    "For each variant <-> drug relationship in the list output the following:\n",
    "Pair: The (variant, drug(s)) pair\n",
    "Variant: The Variant / Haplotypes (ex. rs2909451, CYP2C19*1, CYP2C19*2, *1/*18, etc.)\n",
    "Gene: The gene group of the variant (ex. DPP4, CYP2C19, KCNJ11, etc.)\n",
    "Allele: Specific allele or genotype if different from variant (ex. TT, *1/*18, del/del, etc.)\n",
    "Relationship Description: Describe the drug(s) in this relationship\n",
    "Variant Effect: Describe the outcome/effect found from the variant (drug efficacy, metabolism, toxicity, dosage, etc.)\n",
    "Statistical Analysis: Describe the statistical analysis used and the reported p-values\n",
    "Population Info: Describe the population of the study participants for this variant\n",
    "Notes: Describe any other useful information included on this variant to understanding the study results.\n",
    "\n",
    "These 9 attributes should be separately repeated for every distinct (variant, drug(s)) relationship. For every attribute,\n",
    "include the information as well as a quote from the article the information was concluded from.\n",
    "\"\"\""
   ]
  },
  {
   "cell_type": "code",
   "execution_count": 158,
   "metadata": {},
   "outputs": [],
   "source": [
    "VARIANT_LIST_PROMPT = \"\"\"\n",
    "You are an expert pharmacogenomics researcher reading and extracting annotations from the following article:\n",
    "\n",
    "{article_text}\n",
    "\n",
    "From this article, note down ALL discussed variants/haplotypes (ex. rs113993960, CYP1A1*1, etc.) that are part of the article's\n",
    "study/analysis. Include information on the gene group and allele (if present). Your output format should be a list of the variants with the following attributes:\n",
    "Variant: The Variant / Haplotypes (ex. rs2909451, CYP2C19*1, CYP2C19*2, *1/*18, etc.)\n",
    "Gene: The gene group of the variant (ex. DPP4, CYP2C19, KCNJ11, etc.)\n",
    "Allele: Specific allele or genotype if different from variant (ex. TT, *1/*18, del/del, etc.)\n",
    "\"\"\""
   ]
  },
  {
   "cell_type": "code",
   "execution_count": 159,
   "metadata": {},
   "outputs": [],
   "source": [
    "from dotenv import load_dotenv\n",
    "load_dotenv()\n",
    "from src.annotation_extraction.simple_inference import VariantList, Variant\n",
    "import json\n",
    "from loguru import logger"
   ]
  },
  {
   "cell_type": "code",
   "execution_count": 160,
   "metadata": {},
   "outputs": [],
   "source": [
    "def save_output(prompt, output, filename):\n",
    "    # save prompt and output to file\n",
    "    with open(f\"test_outputs/{filename}.txt\", \"w\") as f:\n",
    "        f.write(\"Prompt:\\n\")\n",
    "        f.write(prompt)\n",
    "        f.write(\"\\nOutput:\\n\")\n",
    "        f.write(output)\n",
    "    logger.info(f\"Saved output to {filename}.txt\")"
   ]
  },
  {
   "cell_type": "code",
   "execution_count": 168,
   "metadata": {},
   "outputs": [],
   "source": [
    "from src.annotation_extraction.simple_inference import Variant, VariantList"
   ]
  },
  {
   "cell_type": "code",
   "execution_count": 169,
   "metadata": {},
   "outputs": [
    {
     "name": "stderr",
     "output_type": "stream",
     "text": [
      "\u001b[32m2025-06-13 14:04:22.642\u001b[0m | \u001b[1mINFO    \u001b[0m | \u001b[36msrc.annotation_extraction.models\u001b[0m:\u001b[36m__init__\u001b[0m:\u001b[36m13\u001b[0m - \u001b[1mGetting article text from PMCID: PMC11730665\u001b[0m\n",
      "\u001b[32m2025-06-13 14:04:22.645\u001b[0m | \u001b[1mINFO    \u001b[0m | \u001b[36msrc.annotation_extraction.models\u001b[0m:\u001b[36mremove_references_section\u001b[0m:\u001b[36m121\u001b[0m - \u001b[1mRemoved References section from article text\u001b[0m\n"
     ]
    }
   ],
   "source": [
    "model = SimpleLLM()\n",
    "article_text = ArticleParser(pmcid=\"PMC11730665\").get_article_text()\n",
    "prompt_generator = PromptGenerator(VARIANT_LIST_PROMPT, {\"article_text\": article_text})\n",
    "prompt = prompt_generator.get_prompt()\n",
    "output = model.generate(prompt, response_format=VariantList)"
   ]
  },
  {
   "cell_type": "code",
   "execution_count": 173,
   "metadata": {},
   "outputs": [
    {
     "ename": "ImportError",
     "evalue": "cannot import name 'VARIANT_LIST_PROMPT' from 'src.annotation_extraction.prompts' (/Users/shloknatarajan/stanford/research/daneshjou/AutoGKB/src/annotation_extraction/prompts.py)",
     "output_type": "error",
     "traceback": [
      "\u001b[31m---------------------------------------------------------------------------\u001b[39m",
      "\u001b[31mImportError\u001b[39m                               Traceback (most recent call last)",
      "\u001b[36mCell\u001b[39m\u001b[36m \u001b[39m\u001b[32mIn[173]\u001b[39m\u001b[32m, line 1\u001b[39m\n\u001b[32m----> \u001b[39m\u001b[32m1\u001b[39m \u001b[38;5;28;01mfrom\u001b[39;00m\u001b[38;5;250m \u001b[39m\u001b[34;01msrc\u001b[39;00m\u001b[34;01m.\u001b[39;00m\u001b[34;01mannotation_extraction\u001b[39;00m\u001b[34;01m.\u001b[39;00m\u001b[34;01mcomponents\u001b[39;00m\u001b[38;5;250m \u001b[39m\u001b[38;5;28;01mimport\u001b[39;00m extract_variants_list\n",
      "\u001b[36mFile \u001b[39m\u001b[32m~/stanford/research/daneshjou/AutoGKB/src/annotation_extraction/components.py:3\u001b[39m\n\u001b[32m      1\u001b[39m \u001b[38;5;28;01mfrom\u001b[39;00m\u001b[38;5;250m \u001b[39m\u001b[34;01msrc\u001b[39;00m\u001b[34;01m.\u001b[39;00m\u001b[34;01mannotation_extraction\u001b[39;00m\u001b[34;01m.\u001b[39;00m\u001b[34;01msimple_inference\u001b[39;00m\u001b[38;5;250m \u001b[39m\u001b[38;5;28;01mimport\u001b[39;00m Variant, VariantList, SimpleLLM, PromptGenerator\n\u001b[32m      2\u001b[39m \u001b[38;5;28;01mfrom\u001b[39;00m\u001b[38;5;250m \u001b[39m\u001b[34;01msrc\u001b[39;00m\u001b[34;01m.\u001b[39;00m\u001b[34;01mannotation_extraction\u001b[39;00m\u001b[34;01m.\u001b[39;00m\u001b[34;01marticle_parser\u001b[39;00m\u001b[38;5;250m \u001b[39m\u001b[38;5;28;01mimport\u001b[39;00m ArticleParser\n\u001b[32m----> \u001b[39m\u001b[32m3\u001b[39m \u001b[38;5;28;01mfrom\u001b[39;00m\u001b[38;5;250m \u001b[39m\u001b[34;01msrc\u001b[39;00m\u001b[34;01m.\u001b[39;00m\u001b[34;01mannotation_extraction\u001b[39;00m\u001b[34;01m.\u001b[39;00m\u001b[34;01mprompts\u001b[39;00m\u001b[38;5;250m \u001b[39m\u001b[38;5;28;01mimport\u001b[39;00m VARIANT_LIST_PROMPT\n\u001b[32m      4\u001b[39m \u001b[38;5;28;01mfrom\u001b[39;00m\u001b[38;5;250m \u001b[39m\u001b[34;01mloguru\u001b[39;00m\u001b[38;5;250m \u001b[39m\u001b[38;5;28;01mimport\u001b[39;00m logger\n\u001b[32m      5\u001b[39m \u001b[38;5;28;01mimport\u001b[39;00m\u001b[38;5;250m \u001b[39m\u001b[34;01mjson\u001b[39;00m\n",
      "\u001b[31mImportError\u001b[39m: cannot import name 'VARIANT_LIST_PROMPT' from 'src.annotation_extraction.prompts' (/Users/shloknatarajan/stanford/research/daneshjou/AutoGKB/src/annotation_extraction/prompts.py)"
     ]
    }
   ],
   "source": [
    "from src.annotation_extraction.components import extract_variants_list"
   ]
  },
  {
   "cell_type": "code",
   "execution_count": 171,
   "metadata": {},
   "outputs": [
    {
     "data": {
      "text/plain": [
       "['rs2909451',\n",
       " 'rs4664443',\n",
       " 'rs3765467',\n",
       " 'rs2285676',\n",
       " 'rs163184',\n",
       " 'rs7754840',\n",
       " 'rs756992',\n",
       " 'rs1799853',\n",
       " 'rs1057910']"
      ]
     },
     "execution_count": 171,
     "metadata": {},
     "output_type": "execute_result"
    }
   ],
   "source": [
    "x = json.loads(output)['variant_list']\n",
    "[i['variant_id'] for i in x]"
   ]
  },
  {
   "cell_type": "code",
   "execution_count": 101,
   "metadata": {},
   "outputs": [
    {
     "name": "stderr",
     "output_type": "stream",
     "text": [
      "\u001b[32m2025-06-12 14:57:23.200\u001b[0m | \u001b[1mINFO    \u001b[0m | \u001b[36m__main__\u001b[0m:\u001b[36msave_output\u001b[0m:\u001b[36m8\u001b[0m - \u001b[1mSaved output to variant_list_2.txt\u001b[0m\n"
     ]
    }
   ],
   "source": [
    "# save summary to file\n",
    "save_output(prompt_generator.get_prompt_template(), output, \"variant_list_2\")"
   ]
  },
  {
   "cell_type": "code",
   "execution_count": null,
   "metadata": {},
   "outputs": [],
   "source": []
  }
 ],
 "metadata": {
  "kernelspec": {
   "display_name": "default",
   "language": "python",
   "name": "python3"
  },
  "language_info": {
   "codemirror_mode": {
    "name": "ipython",
    "version": 3
   },
   "file_extension": ".py",
   "mimetype": "text/x-python",
   "name": "python",
   "nbconvert_exporter": "python",
   "pygments_lexer": "ipython3",
   "version": "3.13.3"
  }
 },
 "nbformat": 4,
 "nbformat_minor": 2
}
